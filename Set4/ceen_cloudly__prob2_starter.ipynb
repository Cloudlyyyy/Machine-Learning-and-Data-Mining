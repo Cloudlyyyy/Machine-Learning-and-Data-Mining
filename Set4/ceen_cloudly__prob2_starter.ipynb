{
  "cells": [
    {
      "cell_type": "code",
      "execution_count": null,
      "metadata": {
        "id": "0fzZb8grE78U"
      },
      "outputs": [],
      "source": [
        "import torch\n",
        "import torch.nn as nn\n",
        "import torch.nn.functional as F\n",
        "from torch.utils.data import TensorDataset, DataLoader\n",
        "import torchvision\n",
        "import numpy as np\n",
        "from numpy import array\n",
        "from IPython.display import display\n",
        "import pandas as pd\n",
        "import seaborn as sns\n",
        "import urllib.request\n",
        "import sklearn\n",
        "from sklearn import model_selection\n",
        "from sklearn.model_selection import train_test_split\n",
        "from sklearn import preprocessing\n",
        "from sklearn.preprocessing import StandardScaler"
      ]
    },
    {
      "cell_type": "code",
      "source": [
        "print(torch.__version__)\n",
        "print(torchvision.__version__)"
      ],
      "metadata": {
        "colab": {
          "base_uri": "https://localhost:8080/"
        },
        "id": "bG06KHdyQKMN",
        "outputId": "dfbcf7cd-6037-4974-939c-9854d1cf1b58"
      },
      "execution_count": null,
      "outputs": [
        {
          "output_type": "stream",
          "name": "stdout",
          "text": [
            "1.13.1+cu116\n",
            "0.14.1+cu116\n"
          ]
        }
      ]
    },
    {
      "cell_type": "markdown",
      "metadata": {
        "id": "VvPFMow_NNry"
      },
      "source": [
        "# Part A: Data Setup"
      ]
    },
    {
      "cell_type": "code",
      "execution_count": null,
      "metadata": {
        "id": "7m_kQfspQJNf",
        "colab": {
          "base_uri": "https://localhost:8080/",
          "height": 500
        },
        "outputId": "866f0061-3304-4fa5-ce52-b194d8eeb1e0"
      },
      "outputs": [
        {
          "output_type": "display_data",
          "data": {
            "text/plain": [
              "        Unnamed: 0 start_date  cdc_case_earliest_dt   cdc_report_dt  \\\n",
              "0                0 2020-01-20                  203.0          769.0   \n",
              "39              39 2020-01-20                  648.0          653.0   \n",
              "49              49 2020-01-20                  315.0          470.0   \n",
              "60              60 2020-01-20                  754.0          771.0   \n",
              "65              65 2020-01-20                  257.0          273.0   \n",
              "...            ...        ...                    ...            ...   \n",
              "799878      799878 2020-01-20                  728.0          728.0   \n",
              "799882      799882 2020-01-20                  677.0          688.0   \n",
              "799894      799894 2020-01-20                  352.0          352.0   \n",
              "799938      799938 2020-01-20                  627.0          627.0   \n",
              "799978      799978 2020-01-20                  179.0          766.0   \n",
              "\n",
              "        pos_spec_dt  onset_dt  current_status  sex  age_group  \\\n",
              "0             207.0     203.0               0    0          0   \n",
              "39            651.0     648.0               0    1          1   \n",
              "49            317.0     315.0               0    1          1   \n",
              "60            755.0     754.0               0    0          2   \n",
              "65            266.0     257.0               0    0          0   \n",
              "...             ...       ...             ...  ...        ...   \n",
              "799878        728.0     728.0               0    1          3   \n",
              "799882        679.0     677.0               0    1          2   \n",
              "799894        353.0     352.0               0    0          4   \n",
              "799938        639.0     627.0               0    1          4   \n",
              "799978        176.0     179.0               0    0          6   \n",
              "\n",
              "        race_ethnicity_combined  hosp_yn  icu_yn  death_yn  medcond_yn  \n",
              "0                             0        0       0         0           0  \n",
              "39                            1        0       1         0           1  \n",
              "49                            2        1       1         0           2  \n",
              "60                            1        1       1         0           2  \n",
              "65                            0        0       1         0           1  \n",
              "...                         ...      ...     ...       ...         ...  \n",
              "799878                        1        2       2         0           3  \n",
              "799882                        1        0       1         0           2  \n",
              "799894                        1        0       0         0           0  \n",
              "799938                        3        0       0         0           1  \n",
              "799978                        2        0       0         0           0  \n",
              "\n",
              "[59371 rows x 14 columns]"
            ],
            "text/html": [
              "\n",
              "  <div id=\"df-6be26991-b181-470e-b6ae-8a2eb3aef587\">\n",
              "    <div class=\"colab-df-container\">\n",
              "      <div>\n",
              "<style scoped>\n",
              "    .dataframe tbody tr th:only-of-type {\n",
              "        vertical-align: middle;\n",
              "    }\n",
              "\n",
              "    .dataframe tbody tr th {\n",
              "        vertical-align: top;\n",
              "    }\n",
              "\n",
              "    .dataframe thead th {\n",
              "        text-align: right;\n",
              "    }\n",
              "</style>\n",
              "<table border=\"1\" class=\"dataframe\">\n",
              "  <thead>\n",
              "    <tr style=\"text-align: right;\">\n",
              "      <th></th>\n",
              "      <th>Unnamed: 0</th>\n",
              "      <th>start_date</th>\n",
              "      <th>cdc_case_earliest_dt</th>\n",
              "      <th>cdc_report_dt</th>\n",
              "      <th>pos_spec_dt</th>\n",
              "      <th>onset_dt</th>\n",
              "      <th>current_status</th>\n",
              "      <th>sex</th>\n",
              "      <th>age_group</th>\n",
              "      <th>race_ethnicity_combined</th>\n",
              "      <th>hosp_yn</th>\n",
              "      <th>icu_yn</th>\n",
              "      <th>death_yn</th>\n",
              "      <th>medcond_yn</th>\n",
              "    </tr>\n",
              "  </thead>\n",
              "  <tbody>\n",
              "    <tr>\n",
              "      <th>0</th>\n",
              "      <td>0</td>\n",
              "      <td>2020-01-20</td>\n",
              "      <td>203.0</td>\n",
              "      <td>769.0</td>\n",
              "      <td>207.0</td>\n",
              "      <td>203.0</td>\n",
              "      <td>0</td>\n",
              "      <td>0</td>\n",
              "      <td>0</td>\n",
              "      <td>0</td>\n",
              "      <td>0</td>\n",
              "      <td>0</td>\n",
              "      <td>0</td>\n",
              "      <td>0</td>\n",
              "    </tr>\n",
              "    <tr>\n",
              "      <th>39</th>\n",
              "      <td>39</td>\n",
              "      <td>2020-01-20</td>\n",
              "      <td>648.0</td>\n",
              "      <td>653.0</td>\n",
              "      <td>651.0</td>\n",
              "      <td>648.0</td>\n",
              "      <td>0</td>\n",
              "      <td>1</td>\n",
              "      <td>1</td>\n",
              "      <td>1</td>\n",
              "      <td>0</td>\n",
              "      <td>1</td>\n",
              "      <td>0</td>\n",
              "      <td>1</td>\n",
              "    </tr>\n",
              "    <tr>\n",
              "      <th>49</th>\n",
              "      <td>49</td>\n",
              "      <td>2020-01-20</td>\n",
              "      <td>315.0</td>\n",
              "      <td>470.0</td>\n",
              "      <td>317.0</td>\n",
              "      <td>315.0</td>\n",
              "      <td>0</td>\n",
              "      <td>1</td>\n",
              "      <td>1</td>\n",
              "      <td>2</td>\n",
              "      <td>1</td>\n",
              "      <td>1</td>\n",
              "      <td>0</td>\n",
              "      <td>2</td>\n",
              "    </tr>\n",
              "    <tr>\n",
              "      <th>60</th>\n",
              "      <td>60</td>\n",
              "      <td>2020-01-20</td>\n",
              "      <td>754.0</td>\n",
              "      <td>771.0</td>\n",
              "      <td>755.0</td>\n",
              "      <td>754.0</td>\n",
              "      <td>0</td>\n",
              "      <td>0</td>\n",
              "      <td>2</td>\n",
              "      <td>1</td>\n",
              "      <td>1</td>\n",
              "      <td>1</td>\n",
              "      <td>0</td>\n",
              "      <td>2</td>\n",
              "    </tr>\n",
              "    <tr>\n",
              "      <th>65</th>\n",
              "      <td>65</td>\n",
              "      <td>2020-01-20</td>\n",
              "      <td>257.0</td>\n",
              "      <td>273.0</td>\n",
              "      <td>266.0</td>\n",
              "      <td>257.0</td>\n",
              "      <td>0</td>\n",
              "      <td>0</td>\n",
              "      <td>0</td>\n",
              "      <td>0</td>\n",
              "      <td>0</td>\n",
              "      <td>1</td>\n",
              "      <td>0</td>\n",
              "      <td>1</td>\n",
              "    </tr>\n",
              "    <tr>\n",
              "      <th>...</th>\n",
              "      <td>...</td>\n",
              "      <td>...</td>\n",
              "      <td>...</td>\n",
              "      <td>...</td>\n",
              "      <td>...</td>\n",
              "      <td>...</td>\n",
              "      <td>...</td>\n",
              "      <td>...</td>\n",
              "      <td>...</td>\n",
              "      <td>...</td>\n",
              "      <td>...</td>\n",
              "      <td>...</td>\n",
              "      <td>...</td>\n",
              "      <td>...</td>\n",
              "    </tr>\n",
              "    <tr>\n",
              "      <th>799878</th>\n",
              "      <td>799878</td>\n",
              "      <td>2020-01-20</td>\n",
              "      <td>728.0</td>\n",
              "      <td>728.0</td>\n",
              "      <td>728.0</td>\n",
              "      <td>728.0</td>\n",
              "      <td>0</td>\n",
              "      <td>1</td>\n",
              "      <td>3</td>\n",
              "      <td>1</td>\n",
              "      <td>2</td>\n",
              "      <td>2</td>\n",
              "      <td>0</td>\n",
              "      <td>3</td>\n",
              "    </tr>\n",
              "    <tr>\n",
              "      <th>799882</th>\n",
              "      <td>799882</td>\n",
              "      <td>2020-01-20</td>\n",
              "      <td>677.0</td>\n",
              "      <td>688.0</td>\n",
              "      <td>679.0</td>\n",
              "      <td>677.0</td>\n",
              "      <td>0</td>\n",
              "      <td>1</td>\n",
              "      <td>2</td>\n",
              "      <td>1</td>\n",
              "      <td>0</td>\n",
              "      <td>1</td>\n",
              "      <td>0</td>\n",
              "      <td>2</td>\n",
              "    </tr>\n",
              "    <tr>\n",
              "      <th>799894</th>\n",
              "      <td>799894</td>\n",
              "      <td>2020-01-20</td>\n",
              "      <td>352.0</td>\n",
              "      <td>352.0</td>\n",
              "      <td>353.0</td>\n",
              "      <td>352.0</td>\n",
              "      <td>0</td>\n",
              "      <td>0</td>\n",
              "      <td>4</td>\n",
              "      <td>1</td>\n",
              "      <td>0</td>\n",
              "      <td>0</td>\n",
              "      <td>0</td>\n",
              "      <td>0</td>\n",
              "    </tr>\n",
              "    <tr>\n",
              "      <th>799938</th>\n",
              "      <td>799938</td>\n",
              "      <td>2020-01-20</td>\n",
              "      <td>627.0</td>\n",
              "      <td>627.0</td>\n",
              "      <td>639.0</td>\n",
              "      <td>627.0</td>\n",
              "      <td>0</td>\n",
              "      <td>1</td>\n",
              "      <td>4</td>\n",
              "      <td>3</td>\n",
              "      <td>0</td>\n",
              "      <td>0</td>\n",
              "      <td>0</td>\n",
              "      <td>1</td>\n",
              "    </tr>\n",
              "    <tr>\n",
              "      <th>799978</th>\n",
              "      <td>799978</td>\n",
              "      <td>2020-01-20</td>\n",
              "      <td>179.0</td>\n",
              "      <td>766.0</td>\n",
              "      <td>176.0</td>\n",
              "      <td>179.0</td>\n",
              "      <td>0</td>\n",
              "      <td>0</td>\n",
              "      <td>6</td>\n",
              "      <td>2</td>\n",
              "      <td>0</td>\n",
              "      <td>0</td>\n",
              "      <td>0</td>\n",
              "      <td>0</td>\n",
              "    </tr>\n",
              "  </tbody>\n",
              "</table>\n",
              "<p>59371 rows × 14 columns</p>\n",
              "</div>\n",
              "      <button class=\"colab-df-convert\" onclick=\"convertToInteractive('df-6be26991-b181-470e-b6ae-8a2eb3aef587')\"\n",
              "              title=\"Convert this dataframe to an interactive table.\"\n",
              "              style=\"display:none;\">\n",
              "        \n",
              "  <svg xmlns=\"http://www.w3.org/2000/svg\" height=\"24px\"viewBox=\"0 0 24 24\"\n",
              "       width=\"24px\">\n",
              "    <path d=\"M0 0h24v24H0V0z\" fill=\"none\"/>\n",
              "    <path d=\"M18.56 5.44l.94 2.06.94-2.06 2.06-.94-2.06-.94-.94-2.06-.94 2.06-2.06.94zm-11 1L8.5 8.5l.94-2.06 2.06-.94-2.06-.94L8.5 2.5l-.94 2.06-2.06.94zm10 10l.94 2.06.94-2.06 2.06-.94-2.06-.94-.94-2.06-.94 2.06-2.06.94z\"/><path d=\"M17.41 7.96l-1.37-1.37c-.4-.4-.92-.59-1.43-.59-.52 0-1.04.2-1.43.59L10.3 9.45l-7.72 7.72c-.78.78-.78 2.05 0 2.83L4 21.41c.39.39.9.59 1.41.59.51 0 1.02-.2 1.41-.59l7.78-7.78 2.81-2.81c.8-.78.8-2.07 0-2.86zM5.41 20L4 18.59l7.72-7.72 1.47 1.35L5.41 20z\"/>\n",
              "  </svg>\n",
              "      </button>\n",
              "      \n",
              "  <style>\n",
              "    .colab-df-container {\n",
              "      display:flex;\n",
              "      flex-wrap:wrap;\n",
              "      gap: 12px;\n",
              "    }\n",
              "\n",
              "    .colab-df-convert {\n",
              "      background-color: #E8F0FE;\n",
              "      border: none;\n",
              "      border-radius: 50%;\n",
              "      cursor: pointer;\n",
              "      display: none;\n",
              "      fill: #1967D2;\n",
              "      height: 32px;\n",
              "      padding: 0 0 0 0;\n",
              "      width: 32px;\n",
              "    }\n",
              "\n",
              "    .colab-df-convert:hover {\n",
              "      background-color: #E2EBFA;\n",
              "      box-shadow: 0px 1px 2px rgba(60, 64, 67, 0.3), 0px 1px 3px 1px rgba(60, 64, 67, 0.15);\n",
              "      fill: #174EA6;\n",
              "    }\n",
              "\n",
              "    [theme=dark] .colab-df-convert {\n",
              "      background-color: #3B4455;\n",
              "      fill: #D2E3FC;\n",
              "    }\n",
              "\n",
              "    [theme=dark] .colab-df-convert:hover {\n",
              "      background-color: #434B5C;\n",
              "      box-shadow: 0px 1px 3px 1px rgba(0, 0, 0, 0.15);\n",
              "      filter: drop-shadow(0px 1px 2px rgba(0, 0, 0, 0.3));\n",
              "      fill: #FFFFFF;\n",
              "    }\n",
              "  </style>\n",
              "\n",
              "      <script>\n",
              "        const buttonEl =\n",
              "          document.querySelector('#df-6be26991-b181-470e-b6ae-8a2eb3aef587 button.colab-df-convert');\n",
              "        buttonEl.style.display =\n",
              "          google.colab.kernel.accessAllowed ? 'block' : 'none';\n",
              "\n",
              "        async function convertToInteractive(key) {\n",
              "          const element = document.querySelector('#df-6be26991-b181-470e-b6ae-8a2eb3aef587');\n",
              "          const dataTable =\n",
              "            await google.colab.kernel.invokeFunction('convertToInteractive',\n",
              "                                                     [key], {});\n",
              "          if (!dataTable) return;\n",
              "\n",
              "          const docLinkHtml = 'Like what you see? Visit the ' +\n",
              "            '<a target=\"_blank\" href=https://colab.research.google.com/notebooks/data_table.ipynb>data table notebook</a>'\n",
              "            + ' to learn more about interactive tables.';\n",
              "          element.innerHTML = '';\n",
              "          dataTable['output_type'] = 'display_data';\n",
              "          await google.colab.output.renderOutput(dataTable, element);\n",
              "          const docLink = document.createElement('div');\n",
              "          docLink.innerHTML = docLinkHtml;\n",
              "          element.appendChild(docLink);\n",
              "        }\n",
              "      </script>\n",
              "    </div>\n",
              "  </div>\n",
              "  "
            ]
          },
          "metadata": {}
        }
      ],
      "source": [
        "# data preprocessing\n",
        "\n",
        "urllib.request.urlretrieve(\"https://raw.githubusercontent.com/emiletimothy/Caltech-CS155-2023/main/set4/data/COVID-19_Case_Surveillance_Public_Use_Data_Subset.csv\", \"COVID-19_Case_Surveillance_Public_Use_Data_Subset.csv\")\n",
        "df = pd.read_csv(\"COVID-19_Case_Surveillance_Public_Use_Data_Subset.csv\")\n",
        "\n",
        "# TODO: preprocess df\n",
        "\n",
        "# convert all death_yn with missing/unknown to NaN\n",
        "\n",
        "df['death_yn'] = df['death_yn'].replace(['Missing'], np.NAN)\n",
        "df['death_yn'] = df['death_yn'].replace(['Unknown'], np.NAN)\n",
        "\n",
        "# convert date strings to date time using to_datetime\n",
        "\n",
        "df['cdc_case_earliest_dt '] = pd.to_datetime(df['cdc_case_earliest_dt '])\n",
        "df['cdc_report_dt'] = pd.to_datetime(df['cdc_report_dt'])\n",
        "df['pos_spec_dt'] = pd.to_datetime(df['pos_spec_dt'])\n",
        "df['onset_dt'] = pd.to_datetime(df['onset_dt'])\n",
        "\n",
        "# add column of start date in front of df\n",
        "\n",
        "df = df.assign(start_date = ['2020/01/20'] * len(df))\n",
        "first = df.pop('start_date')\n",
        "df.insert(1, 'start_date', first)\n",
        "\n",
        "# convert and subtract from all dates\n",
        "\n",
        "df['start_date'] = pd.to_datetime(df['start_date'])\n",
        "\n",
        "df['cdc_case_earliest_dt '] = (df['cdc_case_earliest_dt '] - df['start_date']) / np.timedelta64(1,'D')\n",
        "df['cdc_report_dt'] = (df['cdc_report_dt'] - df['start_date']) / np.timedelta64(1,'D')\n",
        "df['pos_spec_dt'] = (df['pos_spec_dt'] - df['start_date']) / np.timedelta64(1,'D')\n",
        "df['onset_dt'] = (df['onset_dt'] - df['start_date']) / np.timedelta64(1,'D')\n",
        "\n",
        "# drop rows with NaN values in death_yn pos_spec_dt onset_d\n",
        "\n",
        "df = df.dropna(subset = ['death_yn'])\n",
        "df = df.dropna(subset = ['pos_spec_dt'])\n",
        "df = df.dropna(subset = ['onset_dt'])\n",
        "\n",
        "# factorize columns\n",
        "\n",
        "df[['current_status', 'sex', 'age_group', 'race_ethnicity_combined', 'hosp_yn', 'icu_yn', 'death_yn', 'medcond_yn']] = df[['current_status', 'sex', 'age_group', 'race_ethnicity_combined', 'hosp_yn', 'icu_yn', 'death_yn', 'medcond_yn']].apply(lambda x: pd.factorize(x)[0])\n",
        "\n",
        "display(df)\n"
      ]
    },
    {
      "cell_type": "code",
      "execution_count": null,
      "metadata": {
        "id": "3Wn-AQp6FDpM"
      },
      "outputs": [],
      "source": [
        "# TODO: make sure your data can be converted to torch tensors\n",
        "\n",
        "train_X, test_X, train_y, test_y = train_test_split(df.iloc[:,[4,5,6,7,8,9,10,11,13]], df['death_yn'], test_size = 0.2)\n",
        "\n",
        "# normalize training and data\n",
        "\n",
        "scaler = StandardScaler()\n",
        "\n",
        "scaler.fit(train_X.iloc[:,[4,5]])\n",
        "\n",
        "train_X.iloc[:,[4,5]] = scaler.transform(train_X.iloc[:,[4,5]])\n",
        "test_X.iloc[:,[4,5]] = scaler.transform(test_X.iloc[:,[4,5]])\n",
        "\n",
        "# make datasets and dataloaders\n",
        "\n",
        "tensor_train_X = torch.Tensor(train_X.to_numpy())\n",
        "tensor_train_y = torch.Tensor(train_y.to_numpy()).type(torch.LongTensor)\n",
        "tensor_test_X = torch.Tensor(test_X.to_numpy())\n",
        "tensor_test_y = torch.Tensor(test_y.to_numpy()).type(torch.LongTensor)\n",
        "\n",
        "train_dataset = TensorDataset(tensor_train_X, tensor_train_y)\n",
        "test_dataset = TensorDataset(tensor_test_X, tensor_test_y)\n",
        "\n",
        "train_loader = torch.utils.data.DataLoader(train_dataset, batch_size=32, shuffle=True)\n",
        "test_loader = torch.utils.data.DataLoader(test_dataset, batch_size=32, shuffle=True)\n"
      ]
    },
    {
      "cell_type": "markdown",
      "metadata": {
        "id": "Ccx89l3btfq4"
      },
      "source": [
        "# Part B: Linear Neural Network"
      ]
    },
    {
      "cell_type": "markdown",
      "metadata": {
        "id": "aICcIvNtNGk2"
      },
      "source": [
        "## Model Setup"
      ]
    },
    {
      "cell_type": "code",
      "execution_count": null,
      "metadata": {
        "id": "qtMSBKxdFfjq",
        "colab": {
          "base_uri": "https://localhost:8080/"
        },
        "outputId": "d03951a8-e3ca-43f2-aafc-fcab3e23cac8"
      },
      "outputs": [
        {
          "output_type": "stream",
          "name": "stdout",
          "text": [
            "Sequential(\n",
            "  (0): Linear(in_features=9, out_features=5, bias=True)\n",
            "  (1): Softmax(dim=None)\n",
            ")\n"
          ]
        }
      ],
      "source": [
        "# TODO: Make your model, optmizer, and loss function here.\n",
        "\n",
        "model = nn.Sequential(\n",
        "    nn.Linear(9, 5),\n",
        "    nn.Softmax()\n",
        ")\n",
        "print(model)\n",
        "\n",
        "optimizer = torch.optim.Adam(model.parameters(), lr=1e-3)\n",
        "loss_fn = nn.CrossEntropyLoss()"
      ]
    },
    {
      "cell_type": "markdown",
      "metadata": {
        "id": "uKl5Tm2TNXxc"
      },
      "source": [
        "## Training Loop"
      ]
    },
    {
      "cell_type": "code",
      "execution_count": null,
      "metadata": {
        "id": "z-RVMsj0NaN7",
        "colab": {
          "base_uri": "https://localhost:8080/"
        },
        "outputId": "140bdf3b-54e7-4abb-e3ae-1c70c872eb1f"
      },
      "outputs": [
        {
          "output_type": "stream",
          "name": "stderr",
          "text": [
            "/usr/local/lib/python3.8/dist-packages/torch/nn/modules/container.py:204: UserWarning: Implicit dimension choice for softmax has been deprecated. Change the call to include dim=X as an argument.\n",
            "  input = module(input)\n"
          ]
        },
        {
          "output_type": "stream",
          "name": "stdout",
          "text": [
            "Train Epoch: 1  Loss: 0.9048\n",
            "Train Epoch: 2  Loss: 0.9048\n",
            "Train Epoch: 3  Loss: 0.9048\n",
            "Train Epoch: 4  Loss: 0.9048\n",
            "Train Epoch: 5  Loss: 0.9048\n",
            "Train Epoch: 6  Loss: 0.9048\n",
            "Train Epoch: 7  Loss: 0.9048\n",
            "Train Epoch: 8  Loss: 0.9048\n",
            "Train Epoch: 9  Loss: 1.0298\n",
            "Train Epoch: 10  Loss: 0.9048\n"
          ]
        }
      ],
      "source": [
        "# Some layers, such as Dropout, behave differently during training\n",
        "\n",
        "model.train()\n",
        "\n",
        "# TODO: Write your training loop here.\n",
        "\n",
        "for epoch in range(10):\n",
        "    for batch_idx, (data, target) in enumerate(train_loader):\n",
        "        # Erase accumulated gradients\n",
        "        optimizer.zero_grad()\n",
        "\n",
        "        # Forward pass\n",
        "        output = model(data)\n",
        "\n",
        "        # Calculate loss\n",
        "        loss = loss_fn(output, target)\n",
        "\n",
        "        # Backward pass\n",
        "        loss.backward()\n",
        "\n",
        "        # Weight update\n",
        "        optimizer.step()\n",
        "\n",
        "    # Track loss each epoch\n",
        "    print('Train Epoch: %d  Loss: %.4f' % (epoch + 1,  loss.item()))"
      ]
    },
    {
      "cell_type": "markdown",
      "metadata": {
        "id": "YZCNGh5mNbE0"
      },
      "source": [
        "## Testing Loop"
      ]
    },
    {
      "cell_type": "code",
      "execution_count": null,
      "metadata": {
        "id": "2SxnJ3eHNfgb",
        "colab": {
          "base_uri": "https://localhost:8080/"
        },
        "outputId": "3bc0fafb-0d44-4e55-bb88-1cc3ea98d3ea"
      },
      "outputs": [
        {
          "output_type": "stream",
          "name": "stdout",
          "text": [
            "Test set: Average loss: 0.0291, Accuracy: 11581/11875 (97.5242)\n"
          ]
        }
      ],
      "source": [
        "# Putting layers like Dropout into evaluation mode\n",
        "model.eval()\n",
        "\n",
        "test_loss = 0\n",
        "correct = 0\n",
        "\n",
        "# Turning off automatic differentiation\n",
        "with torch.no_grad():\n",
        "    # TODO: Write test loop here.\n",
        "    for data, target in test_loader:\n",
        "        output = model(data)\n",
        "        test_loss += loss_fn(output, target).item()  # Sum up batch loss\n",
        "        pred = output.argmax(dim=1, keepdim=True)  # Get the index of the max class score\n",
        "        correct += pred.eq(target.view_as(pred)).sum().item()\n",
        "\n",
        "test_loss /= len(test_loader.dataset)\n",
        "\n",
        "# TODO: Show results.\n",
        "print('Test set: Average loss: %.4f, Accuracy: %d/%d (%.4f)' % (test_loss, correct, len(test_loader.dataset), 100. * correct / len(test_loader.dataset)))\n",
        "\n"
      ]
    },
    {
      "cell_type": "markdown",
      "metadata": {
        "id": "sf9UHC-kZ25f"
      },
      "source": [
        "## Weight Matrix Visualization"
      ]
    },
    {
      "cell_type": "code",
      "execution_count": null,
      "metadata": {
        "id": "aBXDC10mRNto",
        "colab": {
          "base_uri": "https://localhost:8080/",
          "height": 285
        },
        "outputId": "69568290-3b0a-42ca-f897-10338a0c7b35"
      },
      "outputs": [
        {
          "output_type": "execute_result",
          "data": {
            "text/plain": [
              "<matplotlib.axes._subplots.AxesSubplot at 0x7fe8e1d07070>"
            ]
          },
          "metadata": {},
          "execution_count": 32
        },
        {
          "output_type": "display_data",
          "data": {
            "text/plain": [
              "<Figure size 432x288 with 2 Axes>"
            ],
            "image/png": "[encoded data removed]"
          },
          "metadata": {
            "needs_background": "light"
          }
        }
      ],
      "source": [
        "weights = model.state_dict()['0.weight']\n",
        "sns.heatmap(weights)"
      ]
    },
    {
      "cell_type": "markdown",
      "metadata": {
        "id": "91H6-NUVZ8Gd"
      },
      "source": [
        "# Part C: 2-Layer Linear Model"
      ]
    },
    {
      "cell_type": "code",
      "execution_count": null,
      "metadata": {
        "id": "SUd6CAB-WebM",
        "colab": {
          "base_uri": "https://localhost:8080/"
        },
        "outputId": "5f740989-0884-4b4f-db51-33c48ceb4b33"
      },
      "outputs": [
        {
          "output_type": "stream",
          "name": "stdout",
          "text": [
            "Sequential(\n",
            "  (0): Linear(in_features=9, out_features=7, bias=True)\n",
            "  (1): Linear(in_features=7, out_features=5, bias=True)\n",
            "  (2): Softmax(dim=None)\n",
            ")\n"
          ]
        }
      ],
      "source": [
        "# TODO: Repeat for 2-layer model\n",
        "\n",
        "model_2 = nn.Sequential(\n",
        "    nn.Linear(9, 7),\n",
        "    nn.Linear(7, 5),\n",
        "    nn.Softmax()\n",
        ")\n",
        "print(model_2)\n",
        "\n",
        "optimizer = torch.optim.Adam(model_2.parameters(), lr=1e-3)\n",
        "loss_fn = nn.CrossEntropyLoss()"
      ]
    },
    {
      "cell_type": "code",
      "source": [
        "# Some layers, such as Dropout, behave differently during training\n",
        "\n",
        "model_2.train()\n",
        "\n",
        "# TODO: Write your training loop here.\n",
        "\n",
        "for epoch in range(10):\n",
        "    for batch_idx, (data, target) in enumerate(train_loader):\n",
        "        # Erase accumulated gradients\n",
        "        optimizer.zero_grad()\n",
        "\n",
        "        # Forward pass\n",
        "        output = model_2(data)\n",
        "\n",
        "        # Calculate loss\n",
        "        loss = loss_fn(output, target)\n",
        "\n",
        "        # Backward pass\n",
        "        loss.backward()\n",
        "\n",
        "        # Weight update\n",
        "        optimizer.step()\n",
        "\n",
        "    # Track loss each epoch\n",
        "    print('Train Epoch: %d  Loss: %.4f' % (epoch + 1,  loss.item()))"
      ],
      "metadata": {
        "colab": {
          "base_uri": "https://localhost:8080/"
        },
        "id": "fh87PKmeGToU",
        "outputId": "08059b65-5765-46f4-8373-4632ddd2b873"
      },
      "execution_count": null,
      "outputs": [
        {
          "output_type": "stream",
          "name": "stdout",
          "text": [
            "Train Epoch: 1  Loss: 0.9048\n",
            "Train Epoch: 2  Loss: 0.9048\n",
            "Train Epoch: 3  Loss: 0.9048\n",
            "Train Epoch: 4  Loss: 0.9048\n",
            "Train Epoch: 5  Loss: 0.9048\n",
            "Train Epoch: 6  Loss: 0.9048\n",
            "Train Epoch: 7  Loss: 0.9048\n",
            "Train Epoch: 8  Loss: 0.9048\n",
            "Train Epoch: 9  Loss: 1.0298\n",
            "Train Epoch: 10  Loss: 0.9048\n"
          ]
        }
      ]
    },
    {
      "cell_type": "code",
      "source": [
        "# Putting layers like Dropout into evaluation mode\n",
        "model_2.eval()\n",
        "\n",
        "test_loss = 0\n",
        "correct = 0\n",
        "\n",
        "# Turning off automatic differentiation\n",
        "with torch.no_grad():\n",
        "    # TODO: Write test loop here.\n",
        "    for data, target in test_loader:\n",
        "        output = model_2(data)\n",
        "        test_loss += loss_fn(output, target).item()  # Sum up batch loss\n",
        "        pred = output.argmax(dim=1, keepdim=True)  # Get the index of the max class score\n",
        "        correct += pred.eq(target.view_as(pred)).sum().item()\n",
        "\n",
        "test_loss /= len(test_loader.dataset)\n",
        "\n",
        "# TODO: Show results.\n",
        "print('Test set: Average loss: %.4f, Accuracy: %d/%d (%.4f)' % (test_loss, correct, len(test_loader.dataset), 100. * correct / len(test_loader.dataset)))"
      ],
      "metadata": {
        "colab": {
          "base_uri": "https://localhost:8080/"
        },
        "id": "AgAQEhYsGcQE",
        "outputId": "200f9f05-5aa4-4fdf-ae13-16fd74a37d27"
      },
      "execution_count": null,
      "outputs": [
        {
          "output_type": "stream",
          "name": "stdout",
          "text": [
            "Test set: Average loss: 0.0291, Accuracy: 11581/11875 (97.5242)\n"
          ]
        }
      ]
    }
  ],
  "metadata": {
    "colab": {
      "provenance": []
    },
    "kernelspec": {
      "display_name": "base",
      "language": "python",
      "name": "python3"
    },
    "language_info": {
      "name": "python",
      "version": "3.9.13 | packaged by conda-forge | (main, May 27 2022, 17:00:33) \n[Clang 13.0.1 ]"
    },
    "vscode": {
      "interpreter": {
        "hash": "4b5295d72cc8c3d140bbb6686d5919ce0ad0a523816efde1e1cd082b7d39dbc7"
      }
    }
  },
  "nbformat": 4,
  "nbformat_minor": 0
}