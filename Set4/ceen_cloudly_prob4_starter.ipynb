{
  "cells": [
    {
      "cell_type": "markdown",
      "metadata": {
        "id": "FJhAQLCY2fZV"
      },
      "source": [
        "# Problem 4\n",
        "\n",
        "Use this notebook to write your code for problem 4."
      ]
    },
    {
      "cell_type": "code",
      "execution_count": null,
      "metadata": {
        "id": "M-jDAo1t-Gml"
      },
      "outputs": [],
      "source": [
        "import numpy as np\n",
        "import matplotlib.pyplot as plt\n",
        "import torch.nn as nn\n",
        "%matplotlib inline"
      ]
    },
    {
      "cell_type": "markdown",
      "metadata": {
        "id": "OEPODNaM2qyC"
      },
      "source": [
        "# 3D - Convolutional network\n",
        "\n",
        "As in problem 3, we have conveniently provided for your use code that loads and preprocesses the MNIST data."
      ]
    },
    {
      "cell_type": "code",
      "execution_count": null,
      "metadata": {
        "id": "D9GXdlcf-Jep"
      },
      "outputs": [],
      "source": [
        "# load MNIST data into PyTorch format\n",
        "import torch\n",
        "import torchvision\n",
        "import torchvision.transforms as transforms\n",
        "\n",
        "torch.manual_seed(0)\n",
        "\n",
        "# set batch size\n",
        "batch_size = 32\n",
        "\n",
        "# load training data downloaded into data/ folder\n",
        "mnist_training_data = torchvision.datasets.MNIST('data/', train=True, download=True,\n",
        "                                                transform=transforms.ToTensor())\n",
        "# transforms.ToTensor() converts batch of images to 4-D tensor and normalizes 0-255 to 0-1.0\n",
        "training_data_loader = torch.utils.data.DataLoader(mnist_training_data,\n",
        "                                                  batch_size=batch_size,\n",
        "                                                  shuffle=True)\n",
        "\n",
        "# load test data\n",
        "mnist_test_data = torchvision.datasets.MNIST('data/', train=False, download=True,\n",
        "                                                transform=transforms.ToTensor())\n",
        "test_data_loader = torch.utils.data.DataLoader(mnist_test_data,\n",
        "                                                  batch_size=batch_size,\n",
        "                                                  shuffle=False)"
      ]
    },
    {
      "cell_type": "code",
      "execution_count": null,
      "metadata": {
        "colab": {
          "base_uri": "https://localhost:8080/"
        },
        "id": "R0oZeeGP3g0o",
        "outputId": "ef1873d6-4d87-4060-bc84-622f98a5e1ff"
      },
      "outputs": [
        {
          "output_type": "stream",
          "name": "stdout",
          "text": [
            "1875 training batches\n",
            "60000 training samples\n",
            "313 validation batches\n"
          ]
        }
      ],
      "source": [
        "# look at the number of batches per epoch for training and validation\n",
        "print(f'{len(training_data_loader)} training batches')\n",
        "print(f'{len(training_data_loader) * batch_size} training samples')\n",
        "print(f'{len(test_data_loader)} validation batches')"
      ]
    },
    {
      "cell_type": "code",
      "execution_count": null,
      "metadata": {
        "id": "djnR78Bz-MOD"
      },
      "outputs": [],
      "source": [
        "# sample model\n",
        "import torch.nn as nn\n",
        "\n",
        "model = nn.Sequential(\n",
        "    nn.Conv2d(1, 8, kernel_size=(3,3)),\n",
        "    nn.BatchNorm2d(8),\n",
        "    nn.ReLU(),\n",
        "    nn.MaxPool2d(2),\n",
        "    nn.Dropout(p=0.05),\n",
        "\n",
        "    nn.Conv2d(8, 8, kernel_size=(3,3)),\n",
        "    nn.BatchNorm2d(8),\n",
        "    nn.ReLU(),\n",
        "    nn.MaxPool2d(2),\n",
        "    nn.Dropout(p=0.05),\n",
        "\n",
        "    nn.Flatten(),\n",
        "    nn.Linear(25*8, 64),\n",
        "    nn.ReLU(),\n",
        "    nn.Linear(64, 10)\n",
        "    # PyTorch implementation of cross-entropy loss includes softmax layer\n",
        ")"
      ]
    },
    {
      "cell_type": "code",
      "execution_count": null,
      "metadata": {
        "colab": {
          "base_uri": "https://localhost:8080/"
        },
        "id": "q0unW7P93uC3",
        "outputId": "c0edae39-139f-4c85-d9e3-d744b57795c9"
      },
      "outputs": [
        {
          "output_type": "stream",
          "name": "stdout",
          "text": [
            "torch.Size([8, 1, 3, 3])\n",
            "torch.Size([8])\n",
            "torch.Size([8])\n",
            "torch.Size([8])\n",
            "torch.Size([8, 8, 3, 3])\n",
            "torch.Size([8])\n",
            "torch.Size([8])\n",
            "torch.Size([8])\n",
            "torch.Size([64, 200])\n",
            "torch.Size([64])\n",
            "torch.Size([10, 64])\n",
            "torch.Size([10])\n"
          ]
        }
      ],
      "source": [
        "# why don't we take a look at the shape of the weights for each layer\n",
        "for p in model.parameters():\n",
        "    print(p.data.shape)"
      ]
    },
    {
      "cell_type": "code",
      "execution_count": null,
      "metadata": {
        "colab": {
          "base_uri": "https://localhost:8080/"
        },
        "id": "pgUYYqn1-QE4",
        "outputId": "908af64c-5d83-4e35-ade4-8515aeba711f"
      },
      "outputs": [
        {
          "output_type": "stream",
          "name": "stdout",
          "text": [
            "total params: 14210\n",
            "trainable params: 14210\n"
          ]
        }
      ],
      "source": [
        "# our model has some # of parameters:\n",
        "count = 0\n",
        "trainable_count = 0\n",
        "for p in model.parameters():\n",
        "    n_params = np.prod(list(p.data.shape)).item()\n",
        "    count += n_params\n",
        "    if p.requires_grad:\n",
        "        trainable_count += n_params\n",
        "print(f'total params: {count}\\ntrainable params: {trainable_count}')"
      ]
    },
    {
      "cell_type": "code",
      "execution_count": null,
      "metadata": {
        "id": "-lUBzqvRA5V8"
      },
      "outputs": [],
      "source": [
        "# For a multi-class classification problem\n",
        "import torch.optim as optim\n",
        "criterion = nn.CrossEntropyLoss()\n",
        "optimizer = optim.RMSprop(model.parameters())"
      ]
    },
    {
      "cell_type": "markdown",
      "metadata": {
        "id": "caBhKJBj4JSM"
      },
      "source": [
        "# Visualization\n",
        "\n",
        "We are providing you with a function to help you visualize what your model is learning.\n",
        "\n",
        "Your model takes takes in an image as input and outputs a vector in 10-dimensional space. If your model is a good digit classifier, then you would expect that output vectors corresponding to the same digit should be close together in this 10-dimensional space. If it achieves that, then we say it learned a useful representation of the digits - your model is capable of encoding incredibly high-dimensional data (raw-pixels of an image) into a more compact 10-dimensional space.\n",
        "\n",
        "While we cannot directly visualize a high-dimensional space, we can project these vectors into 2 dimensions to get a sense of what is going on. We do this using an algorithm called tSNE."
      ]
    },
    {
      "cell_type": "code",
      "execution_count": null,
      "metadata": {
        "id": "ToSEZg3iC9U8"
      },
      "outputs": [],
      "source": [
        "from sklearn.manifold import TSNE\n",
        "\n",
        "def visualize_predictions(model):\n",
        "    #  TSNE projects high-dimensional vectors to 2D space\n",
        "    tsne = TSNE(n_components=2, learning_rate=\"auto\", init=\"random\")\n",
        "\n",
        "    sample_size = 1000\n",
        "    data_sampler = torch.utils.data.DataLoader(mnist_training_data, batch_size=sample_size, shuffle=True)\n",
        "    sample = next(iter(data_sampler))\n",
        "    images, labels = sample\n",
        "    feature_vectors = model(images)\n",
        "    features_2D = tsne.fit_transform(feature_vectors.detach().numpy())\n",
        "\n",
        "    for digit in range(0, 10):\n",
        "        points_x, points_y = [], []\n",
        "        for i in range(len(features_2D)):\n",
        "            if labels[i].item() == digit:\n",
        "                points_x.append(features_2D[i, 0])\n",
        "                points_y.append(features_2D[i, 1])\n",
        "        plt.scatter(points_x, points_y, label=f\"{digit}\")\n",
        "\n",
        "    plt.legend()\n",
        "    plt.show()"
      ]
    },
    {
      "cell_type": "code",
      "execution_count": null,
      "metadata": {
        "id": "xHxqp4lh6qCq",
        "colab": {
          "base_uri": "https://localhost:8080/",
          "height": 265
        },
        "outputId": "f8ae0df6-5074-4790-b5a3-cde00457779c"
      },
      "outputs": [
        {
          "output_type": "display_data",
          "data": {
            "text/plain": [
              "<Figure size 432x288 with 1 Axes>"
            ],
            "image/png": "[encoded data removed]"
          },
          "metadata": {
            "needs_background": "light"
          }
        }
      ],
      "source": [
        "# an untrained model classifies digits at random!\n",
        "visualize_predictions(model)"
      ]
    },
    {
      "cell_type": "markdown",
      "metadata": {
        "id": "O2qHo7qQZZTA"
      },
      "source": [
        "### Train loop"
      ]
    },
    {
      "cell_type": "code",
      "execution_count": null,
      "metadata": {
        "id": "msFQ0MKp-SY8",
        "colab": {
          "base_uri": "https://localhost:8080/"
        },
        "outputId": "4e474875-09de-4701-d9a9-73c88b3422d9"
      },
      "outputs": [
        {
          "output_type": "stream",
          "name": "stdout",
          "text": [
            "Epoch 1/10:...........\n",
            "\tloss: 0.2192, acc: 0.9377, val loss: 0.0883, val acc: 0.9726\n",
            "Epoch 2/10:...........\n",
            "\tloss: 0.0977, acc: 0.9702, val loss: 0.0770, val acc: 0.9779\n",
            "Epoch 3/10:...........\n",
            "\tloss: 0.0856, acc: 0.9745, val loss: 0.0749, val acc: 0.9784\n",
            "Epoch 4/10:...........\n",
            "\tloss: 0.0767, acc: 0.9764, val loss: 0.0625, val acc: 0.9818\n",
            "Epoch 5/10:...........\n",
            "\tloss: 0.0710, acc: 0.9781, val loss: 0.0742, val acc: 0.9810\n",
            "Epoch 6/10:...........\n",
            "\tloss: 0.0680, acc: 0.9793, val loss: 0.0869, val acc: 0.9762\n",
            "Epoch 7/10:...........\n",
            "\tloss: 0.0655, acc: 0.9806, val loss: 0.0723, val acc: 0.9796\n",
            "Epoch 8/10:...........\n",
            "\tloss: 0.0620, acc: 0.9818, val loss: 0.0842, val acc: 0.9779\n",
            "Epoch 9/10:...........\n",
            "\tloss: 0.0605, acc: 0.9823, val loss: 0.0553, val acc: 0.9855\n",
            "Epoch 10/10:...........\n",
            "\tloss: 0.0586, acc: 0.9832, val loss: 0.0513, val acc: 0.9857\n"
          ]
        }
      ],
      "source": [
        "import torch.nn as nn\n",
        "\n",
        "# Train the model for 10 epochs, iterating on the data in batches\n",
        "n_epochs = 10\n",
        "\n",
        "# store metrics\n",
        "training_accuracy_history = np.zeros([n_epochs, 1])\n",
        "training_loss_history = np.zeros([n_epochs, 1])\n",
        "validation_accuracy_history = np.zeros([n_epochs, 1])\n",
        "validation_loss_history = np.zeros([n_epochs, 1])\n",
        "\n",
        "for epoch in range(n_epochs):\n",
        "    print(f'Epoch {epoch+1}/10:', end='')\n",
        "    train_total = 0\n",
        "    train_correct = 0\n",
        "    # train\n",
        "    model.train()\n",
        "    for i, data in enumerate(training_data_loader):\n",
        "        images, labels = data\n",
        "        optimizer.zero_grad()\n",
        "        # forward pass\n",
        "        output = model(images)\n",
        "        # calculate categorical cross entropy loss\n",
        "        loss = criterion(output, labels)\n",
        "        # backward pass\n",
        "        loss.backward()\n",
        "        optimizer.step()\n",
        "\n",
        "        # track training accuracy\n",
        "        _, predicted = torch.max(output.data, 1)\n",
        "        train_total += labels.size(0)\n",
        "        train_correct += (predicted == labels).sum().item()\n",
        "        # track training loss\n",
        "        training_loss_history[epoch] += loss.item()\n",
        "        # progress update after 180 batches (~1/10 epoch for batch size 32)\n",
        "        if i % 180 == 0: print('.',end='')\n",
        "    training_loss_history[epoch] /= len(training_data_loader)\n",
        "    training_accuracy_history[epoch] = train_correct / train_total\n",
        "    print(f'\\n\\tloss: {training_loss_history[epoch,0]:0.4f}, acc: {training_accuracy_history[epoch,0]:0.4f}',end='')\n",
        "\n",
        "    # validate\n",
        "    test_total = 0\n",
        "    test_correct = 0\n",
        "    with torch.no_grad():\n",
        "        model.eval()\n",
        "        for i, data in enumerate(test_data_loader):\n",
        "            images, labels = data\n",
        "            # forward pass\n",
        "            output = model(images)\n",
        "            # find accuracy\n",
        "            _, predicted = torch.max(output.data, 1)\n",
        "            test_total += labels.size(0)\n",
        "            test_correct += (predicted == labels).sum().item()\n",
        "            # find loss\n",
        "            loss = criterion(output, labels)\n",
        "            validation_loss_history[epoch] += loss.item()\n",
        "        validation_loss_history[epoch] /= len(test_data_loader)\n",
        "        validation_accuracy_history[epoch] = test_correct / test_total\n",
        "    print(f', val loss: {validation_loss_history[epoch,0]:0.4f}, val acc: {validation_accuracy_history[epoch,0]:0.4f}')"
      ]
    },
    {
      "cell_type": "code",
      "source": [
        "# A trained model should be able to group input images by digit!\n",
        "visualize_predictions(model)"
      ],
      "metadata": {
        "id": "BBxFlLFbs73s"
      },
      "execution_count": null,
      "outputs": []
    },
    {
      "cell_type": "markdown",
      "metadata": {
        "id": "ROuYd_Wt8TAH"
      },
      "source": [
        "Above, we output the training loss/accuracy as well as the validation loss and accuracy. Not bad! Let's see if you can do better."
      ]
    },
    {
      "cell_type": "markdown",
      "metadata": {
        "id": "CDCjKOxFZfMv"
      },
      "source": [
        "### Trained model visualization"
      ]
    },
    {
      "cell_type": "code",
      "source": [
        "# For a multi-class classification problem\n",
        "\n",
        "import torch.optim as optim\n",
        "p = np.linspace(0,1,11)\n",
        "\n",
        "for ele in p:\n",
        "\n",
        "  model_1 = nn.Sequential(\n",
        "  nn.Conv2d(1, 8, kernel_size=(3,3)),\n",
        "  nn.BatchNorm2d(8),\n",
        "  nn.ReLU(),\n",
        "  nn.MaxPool2d(2),\n",
        "  nn.Dropout(p=ele),\n",
        "\n",
        "  nn.Conv2d(8, 8, kernel_size=(3,3)),\n",
        "  nn.BatchNorm2d(8),\n",
        "  nn.ReLU(),\n",
        "  nn.MaxPool2d(2),\n",
        "  nn.Dropout(p=ele),\n",
        "\n",
        "  nn.Flatten(),\n",
        "  nn.Linear(25*8, 64),\n",
        "  nn.ReLU(),\n",
        "  nn.Linear(64, 10)\n",
        "    # PyTorch implementation of cross-entropy loss includes softmax layer\n",
        "  )\n",
        "\n",
        "  criterion = nn.CrossEntropyLoss()\n",
        "  optimizer = optim.RMSprop(model_1.parameters())\n",
        "  # Train the model for 10 epochs, iterating on the data in batches\n",
        "  n_epochs = 1\n",
        "\n",
        "  # store metrics\n",
        "  training_accuracy_history = np.zeros([n_epochs, 1])\n",
        "  training_loss_history = np.zeros([n_epochs, 1])\n",
        "  validation_accuracy_history = np.zeros([n_epochs, 1])\n",
        "  validation_loss_history = np.zeros([n_epochs, 1])\n",
        "\n",
        "  for epoch in range(n_epochs):\n",
        "    print(f'Epoch {epoch+1}/10:', end='')\n",
        "    train_total = 0\n",
        "    train_correct = 0\n",
        "    # train\n",
        "    model_1.train()\n",
        "    for i, data in enumerate(training_data_loader):\n",
        "        images, labels = data\n",
        "        optimizer.zero_grad()\n",
        "        # forward pass\n",
        "        output = model_1(images)\n",
        "        # calculate categorical cross entropy loss\n",
        "        loss = criterion(output, labels)\n",
        "        # backward pass\n",
        "        loss.backward()\n",
        "        optimizer.step()\n",
        "\n",
        "        # track training accuracy\n",
        "        _, predicted = torch.max(output.data, 1)\n",
        "        train_total += labels.size(0)\n",
        "        train_correct += (predicted == labels).sum().item()\n",
        "        # track training loss\n",
        "        training_loss_history[epoch] += loss.item()\n",
        "        # progress update after 180 batches (~1/10 epoch for batch size 32)\n",
        "        if i % 180 == 0: print('.',end='')\n",
        "    training_loss_history[epoch] /= len(training_data_loader)\n",
        "    training_accuracy_history[epoch] = train_correct / train_total\n",
        "    print(f'\\n\\tloss: {training_loss_history[epoch,0]:0.4f}, acc: {training_accuracy_history[epoch,0]:0.4f}',end='')\n",
        "\n",
        "    # validate\n",
        "    test_total = 0\n",
        "    test_correct = 0\n",
        "    with torch.no_grad():\n",
        "        model_1.eval()\n",
        "        for i, data in enumerate(test_data_loader):\n",
        "            images, labels = data\n",
        "            # forward pass\n",
        "            output = model_1(images)\n",
        "            # find accuracy\n",
        "            _, predicted = torch.max(output.data, 1)\n",
        "            test_total += labels.size(0)\n",
        "            test_correct += (predicted == labels).sum().item()\n",
        "            # find loss\n",
        "            loss = criterion(output, labels)\n",
        "            validation_loss_history[epoch] += loss.item()\n",
        "        validation_loss_history[epoch] /= len(test_data_loader)\n",
        "        validation_accuracy_history[epoch] = test_correct / test_total\n",
        "    print(f', val loss: {validation_loss_history[epoch,0]:0.4f}, val acc: {validation_accuracy_history[epoch,0]:0.4f}')\n",
        "\n"
      ],
      "metadata": {
        "id": "YuJgQLg0lJnr",
        "colab": {
          "base_uri": "https://localhost:8080/"
        },
        "outputId": "62523624-2665-48fa-ab5e-7dadfb5c0179"
      },
      "execution_count": null,
      "outputs": [
        {
          "output_type": "stream",
          "name": "stdout",
          "text": [
            "Epoch 1/10:...........\n",
            "\tloss: 0.1905, acc: 0.9497, val loss: 0.0891, val acc: 0.9708\n",
            "Epoch 1/10:...........\n",
            "\tloss: 0.3035, acc: 0.9107, val loss: 0.0865, val acc: 0.9724\n",
            "Epoch 1/10:...........\n",
            "\tloss: 0.2592, acc: 0.9213, val loss: 0.1139, val acc: 0.9625\n",
            "Epoch 1/10:...........\n",
            "\tloss: 0.3664, acc: 0.8872, val loss: 0.1219, val acc: 0.9636\n",
            "Epoch 1/10:...........\n",
            "\tloss: 0.3858, acc: 0.8805, val loss: 0.1522, val acc: 0.9566\n",
            "Epoch 1/10:...........\n",
            "\tloss: 0.5388, acc: 0.8269, val loss: 0.1573, val acc: 0.9574\n",
            "Epoch 1/10:...........\n",
            "\tloss: 0.6860, acc: 0.7770, val loss: 0.1797, val acc: 0.9519\n",
            "Epoch 1/10:...........\n",
            "\tloss: 1.0727, acc: 0.6403, val loss: 0.4115, val acc: 0.8992\n",
            "Epoch 1/10:...........\n",
            "\tloss: 1.1344, acc: 0.6252, val loss: 0.4492, val acc: 0.8913\n",
            "Epoch 1/10:...........\n",
            "\tloss: 1.8770, acc: 0.3355, val loss: 1.6887, val acc: 0.4264\n",
            "Epoch 1/10:...........\n",
            "\tloss: 2.3028, acc: 0.1114, val loss: 189.8099, val acc: 0.0707\n"
          ]
        }
      ]
    },
    {
      "cell_type": "code",
      "source": [
        "p = np.linspace(0,1,11)\n",
        "print(p)"
      ],
      "metadata": {
        "colab": {
          "base_uri": "https://localhost:8080/"
        },
        "id": "tL4D2MPYIXN5",
        "outputId": "c3a3b2fa-f63f-40d5-baa8-4ee3ac5de653"
      },
      "execution_count": null,
      "outputs": [
        {
          "output_type": "stream",
          "name": "stdout",
          "text": [
            "[0.  0.1 0.2 0.3 0.4 0.5 0.6 0.7 0.8 0.9 1. ]\n"
          ]
        }
      ]
    }
  ],
  "metadata": {
    "colab": {
      "provenance": []
    },
    "kernelspec": {
      "display_name": "base",
      "language": "python",
      "name": "python3"
    },
    "language_info": {
      "name": "python",
      "version": "3.9.13 | packaged by conda-forge | (main, May 27 2022, 17:00:33) \n[Clang 13.0.1 ]"
    },
    "vscode": {
      "interpreter": {
        "hash": "4b5295d72cc8c3d140bbb6686d5919ce0ad0a523816efde1e1cd082b7d39dbc7"
      }
    }
  },
  "nbformat": 4,
  "nbformat_minor": 0
}