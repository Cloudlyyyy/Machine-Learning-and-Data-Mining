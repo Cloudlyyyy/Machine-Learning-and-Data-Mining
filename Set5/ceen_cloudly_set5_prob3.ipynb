{
  "cells": [
    {
      "cell_type": "markdown",
      "metadata": {
        "id": "UwdvrXTFLOQD"
      },
      "source": [
        "[![Open In Colab](https://colab.research.google.com/assets/colab-badge.svg)](https://colab.research.google.com/github/emiletimothy/Caltech-CS155-2023/blob/main/set5/set5_prob3.ipynb)\n"
      ]
    },
    {
      "cell_type": "markdown",
      "metadata": {
        "id": "ViXzmmMF4T9_"
      },
      "source": [
        "## Set 5\n",
        "## 3. Word2Vec **Principles**"
      ]
    },
    {
      "cell_type": "markdown",
      "metadata": {
        "id": "HXT_eNcB93ue"
      },
      "source": [
        "#### Preparation"
      ]
    },
    {
      "cell_type": "code",
      "execution_count": null,
      "metadata": {
        "colab": {
          "base_uri": "https://localhost:8080/"
        },
        "id": "2wZbd6FeH7cY",
        "outputId": "6ad71373-8fd2-4ce4-97fa-7c7a320e3df6"
      },
      "outputs": [
        {
          "output_type": "stream",
          "name": "stdout",
          "text": [
            "--2023-02-27 07:41:38--  https://raw.githubusercontent.com/emiletimothy/Caltech-CS155-2023/main/set5/P3CHelpers.py\n",
            "Resolving raw.githubusercontent.com (raw.githubusercontent.com)... 185.199.108.133, 185.199.109.133, 185.199.110.133, ...\n",
            "Connecting to raw.githubusercontent.com (raw.githubusercontent.com)|185.199.108.133|:443... connected.\n",
            "HTTP request sent, awaiting response... 200 OK\n",
            "Length: 4939 (4.8K) [text/plain]\n",
            "Saving to: ‘P3CHelpers.py’\n",
            "\n",
            "\rP3CHelpers.py         0%[                    ]       0  --.-KB/s               \rP3CHelpers.py       100%[===================>]   4.82K  --.-KB/s    in 0s      \n",
            "\n",
            "2023-02-27 07:41:38 (38.4 MB/s) - ‘P3CHelpers.py’ saved [4939/4939]\n",
            "\n"
          ]
        }
      ],
      "source": [
        "# download the helper function\n",
        "!wget -O P3CHelpers.py https://raw.githubusercontent.com/emiletimothy/Caltech-CS155-2023/main/set5/P3CHelpers.py"
      ]
    },
    {
      "cell_type": "code",
      "execution_count": null,
      "metadata": {
        "colab": {
          "base_uri": "https://localhost:8080/"
        },
        "id": "LmmdYcVUH9D8",
        "outputId": "89e334da-26b2-4a24-e962-6ebe3b5b5eb9"
      },
      "outputs": [
        {
          "output_type": "stream",
          "name": "stdout",
          "text": [
            "--2023-02-27 07:41:38--  https://raw.githubusercontent.com/emiletimothy/Caltech-CS155-2023/main/set5/data/dr_seuss.txt\n",
            "Resolving raw.githubusercontent.com (raw.githubusercontent.com)... 185.199.108.133, 185.199.109.133, 185.199.110.133, ...\n",
            "Connecting to raw.githubusercontent.com (raw.githubusercontent.com)|185.199.108.133|:443... connected.\n",
            "HTTP request sent, awaiting response... 200 OK\n",
            "Length: 8810 (8.6K) [text/plain]\n",
            "Saving to: ‘dr_seuss.txt’\n",
            "\n",
            "\rdr_seuss.txt          0%[                    ]       0  --.-KB/s               \rdr_seuss.txt        100%[===================>]   8.60K  --.-KB/s    in 0s      \n",
            "\n",
            "2023-02-27 07:41:38 (84.5 MB/s) - ‘dr_seuss.txt’ saved [8810/8810]\n",
            "\n"
          ]
        }
      ],
      "source": [
        "# download the dataset\n",
        "!wget -O dr_seuss.txt https://raw.githubusercontent.com/emiletimothy/Caltech-CS155-2023/main/set5/data/dr_seuss.txt"
      ]
    },
    {
      "cell_type": "code",
      "execution_count": null,
      "metadata": {
        "id": "Groxh_Rz4QLB"
      },
      "outputs": [],
      "source": [
        "import numpy as np\n",
        "from P3CHelpers import *\n",
        "import torch\n",
        "import torch.nn as nn\n",
        "import torch.optim as optim\n",
        "from torch.utils.data import Dataset, DataLoader, TensorDataset"
      ]
    },
    {
      "cell_type": "markdown",
      "metadata": {
        "id": "h9aBEkZD5wb2"
      },
      "source": [
        "#### Problem D:\n",
        "Fill in the generate_traindata and find_most_similar_pairs functions."
      ]
    },
    {
      "cell_type": "code",
      "execution_count": null,
      "metadata": {
        "id": "UChXkrvs7OF0"
      },
      "outputs": [],
      "source": [
        "def get_word_repr(word_to_index, word):\n",
        "    \"\"\"\n",
        "    Returns one-hot-encoded feature representation of the specified word given\n",
        "    a dictionary mapping words to their one-hot-encoded index.\n",
        "\n",
        "    Arguments:\n",
        "        word_to_index: Dictionary mapping words to their corresponding index\n",
        "                       in a one-hot-encoded representation of our corpus.\n",
        "\n",
        "        word:          Word whose feature representation we wish to compute.\n",
        "\n",
        "    Returns:\n",
        "        feature_representation:     Feature representation of the passed-in word.\n",
        "    \"\"\"\n",
        "    unique_words = word_to_index.keys()\n",
        "    # Return a vector that's zero everywhere besides the index corresponding to <word>\n",
        "    feature_representation = np.zeros(len(unique_words))\n",
        "    feature_representation[word_to_index[word]] = 1\n",
        "    return feature_representation\n",
        "\n",
        "def generate_traindata(word_list, word_to_index, window_size=4):\n",
        "    \"\"\"\n",
        "    Generates training data for Skipgram model.\n",
        "\n",
        "    Arguments:\n",
        "        word_list:     Sequential list of words (strings).\n",
        "        word_to_index: Dictionary mapping words to their corresponding index\n",
        "                       in a one-hot-encoded representation of our corpus.\n",
        "\n",
        "        window_size:   Size of Skipgram window. Defaults to 2\n",
        "                       (use the default value when running your code).\n",
        "\n",
        "    Returns:\n",
        "        (trainX, trainY):     A pair of matrices (trainX, trainY) containing training\n",
        "                              points (one-hot-encoded vectors) and their corresponding output_word\n",
        "                              (also one-hot-encoded vectors)\n",
        "\n",
        "    \"\"\"\n",
        "    trainX = []\n",
        "    trainY = []\n",
        "\n",
        "    ##############################################################\n",
        "    # TODO: Implement this function, populating trainX and trainY\n",
        "    ##############################################################\n",
        "\n",
        "    for i in range(len(word_list)):\n",
        "      for j in range(1,window_size+1):\n",
        "        if i-j >= 0:\n",
        "          y = get_word_repr(word_to_index, word_list[i-j])\n",
        "          trainY.append(y)\n",
        "          trainX.append(get_word_repr(word_to_index, word_list[i]))\n",
        "        if i+j < len(word_list):\n",
        "          y = get_word_repr(word_to_index, word_list[i+j])\n",
        "          trainY.append(y)\n",
        "          trainX.append(get_word_repr(word_to_index, word_list[i]))\n",
        "    return np.array(trainX), np.array(trainY)"
      ]
    },
    {
      "cell_type": "code",
      "execution_count": null,
      "metadata": {
        "id": "OoaUtBqd7V-A"
      },
      "outputs": [],
      "source": [
        "def find_most_similar_pairs(filename, num_latent_factors):\n",
        "    \"\"\"\n",
        "    Find the most similar pairs from the word embeddings computed from\n",
        "    a body of text\n",
        "\n",
        "    Arguments:\n",
        "        filename:           Text file to read and train embeddings from\n",
        "        num_latent_factors: The number of latent factors / the size of the embedding\n",
        "    \"\"\"\n",
        "    # Load in a list of words from the specified file; remove non-alphanumeric characters\n",
        "    # and make all chars lowercase.\n",
        "    sample_text = load_word_list(filename)\n",
        "\n",
        "    # Create word dictionary\n",
        "    word_to_index = generate_onehot_dict(sample_text)\n",
        "    print(\"Textfile contains %s unique words\"%len(word_to_index))\n",
        "    # Create training data\n",
        "    trainX, trainY = generate_traindata(sample_text, word_to_index)\n",
        "\n",
        "    ##############################################################\n",
        "    # TODO: 1) Create and train model in Pytorch.\n",
        "    ##############################################################\n",
        "\n",
        "    # vocab_size = number of unique words in our text file. Will be useful\n",
        "    # when adding layers to your neural network\n",
        "    vocab_size = len(word_to_index)\n",
        "\n",
        "    model = nn.Sequential(\n",
        "      nn.Linear(vocab_size, num_latent_factors),\n",
        "      nn.Linear(num_latent_factors, vocab_size),\n",
        "    )\n",
        "\n",
        "    model.train()\n",
        "\n",
        "    loss_fn = nn.CrossEntropyLoss()\n",
        "    optimizer = torch.optim.Adam(model.parameters(), lr=1e-3)\n",
        "\n",
        "    train_dataset = TensorDataset(torch.Tensor(trainX),torch.Tensor(trainY))\n",
        "    train_loader = torch.utils.data.DataLoader(train_dataset, batch_size=8, shuffle=True)\n",
        "\n",
        "    for epoch in range(10):\n",
        "      for batch_idx, (data, target) in enumerate(train_loader):\n",
        "        # Erase accumulated gradients\n",
        "        optimizer.zero_grad()\n",
        "\n",
        "        # Forward pass\n",
        "        output = model(data)\n",
        "\n",
        "        # Calculate loss\n",
        "        loss = loss_fn(output, target)\n",
        "\n",
        "        # Backward pass\n",
        "        loss.backward()\n",
        "\n",
        "        # Weight update\n",
        "        optimizer.step()\n",
        "    # Track loss each epoch\n",
        "    print('Train Epoch: %d  Loss: %.4f' % (epoch + 1,  loss.item()))\n",
        "\n",
        "\n",
        "    ##############################################################\n",
        "    # TODO: 2) Extract weights for hidden layer\n",
        "    ##############################################################\n",
        "\n",
        "    # set weights variable below\n",
        "    weights = model.state_dict()['1.weight']\n",
        "    print(weights.size())\n",
        "\n",
        "    #weight = model.state_dict()['0.weight']\n",
        "    #print(weight.size())\n",
        "\n",
        "    # Find and print most similar pairs\n",
        "    similar_pairs = most_similar_pairs(weights, word_to_index)\n",
        "    for pair in similar_pairs[:30]:\n",
        "        print(pair)"
      ]
    },
    {
      "cell_type": "markdown",
      "metadata": {
        "id": "xFBMhtCJ8LyA"
      },
      "source": [
        "### Problem E-H:\n",
        "Run your model on drseuss.txt and answer questions from E through H."
      ]
    },
    {
      "cell_type": "code",
      "execution_count": null,
      "metadata": {
        "colab": {
          "base_uri": "https://localhost:8080/"
        },
        "id": "bR7ZicNJ6tyN",
        "outputId": "c40b268b-b6c2-4c65-8f8b-94d7ad319ff3"
      },
      "outputs": [
        {
          "output_type": "stream",
          "name": "stdout",
          "text": [
            "Textfile contains 308 unique words\n",
            "Train Epoch: 10  Loss: 3.0943\n",
            "torch.Size([308, 10])\n",
            "Pair(wink, pink), Similarity: 0.98405004\n",
            "Pair(pink, wink), Similarity: 0.98405004\n",
            "Pair(man, mr), Similarity: 0.98388916\n",
            "Pair(mr, man), Similarity: 0.98388916\n",
            "Pair(just, jump), Similarity: 0.9806946\n",
            "Pair(jump, just), Similarity: 0.9806946\n",
            "Pair(heads, grows), Similarity: 0.9793353\n",
            "Pair(grows, heads), Similarity: 0.9793353\n",
            "Pair(likes, drink), Similarity: 0.978965\n",
            "Pair(drink, likes), Similarity: 0.978965\n",
            "Pair(brush, comb), Similarity: 0.97793293\n",
            "Pair(comb, brush), Similarity: 0.97793293\n",
            "Pair(eight, nine), Similarity: 0.9778442\n",
            "Pair(nine, eight), Similarity: 0.9778442\n",
            "Pair(today, gone), Similarity: 0.97737235\n",
            "Pair(gone, today), Similarity: 0.97737235\n",
            "Pair(goat, boat), Similarity: 0.9765057\n",
            "Pair(boat, goat), Similarity: 0.9765057\n",
            "Pair(zeep, gone), Similarity: 0.9751761\n",
            "Pair(hot, sun), Similarity: 0.9749667\n",
            "Pair(sun, hot), Similarity: 0.9749667\n",
            "Pair(sleep, light), Similarity: 0.97488743\n",
            "Pair(light, sleep), Similarity: 0.97488743\n",
            "Pair(fly, kite), Similarity: 0.9737175\n",
            "Pair(kite, fly), Similarity: 0.9737175\n",
            "Pair(foot, cold), Similarity: 0.97335255\n",
            "Pair(cold, foot), Similarity: 0.97335255\n",
            "Pair(wump, hump), Similarity: 0.972542\n",
            "Pair(hump, wump), Similarity: 0.972542\n",
            "Pair(comes, time), Similarity: 0.9712739\n"
          ]
        }
      ],
      "source": [
        "find_most_similar_pairs('dr_seuss.txt', 10)"
      ]
    }
  ],
  "metadata": {
    "colab": {
      "collapsed_sections": [
        "h9aBEkZD5wb2"
      ],
      "provenance": []
    },
    "kernelspec": {
      "display_name": "Python 3",
      "name": "python3"
    },
    "language_info": {
      "name": "python"
    }
  },
  "nbformat": 4,
  "nbformat_minor": 0
}