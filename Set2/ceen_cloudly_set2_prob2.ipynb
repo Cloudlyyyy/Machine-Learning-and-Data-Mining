{
  "cells": [
    {
      "cell_type": "markdown",
      "metadata": {
        "id": "c9-osRddw_4t"
      },
      "source": [
        "<a href=\"https://githubtocolab.com/emiletimothy/Caltech-CS155-2023/blob/main/set2/set2_prob2.ipynb\" target=\"_parent\"><img src=\"https://colab.research.google.com/assets/colab-badge.svg\" alt=\"Open in Colab\"/></a>"
      ]
    },
    {
      "cell_type": "markdown",
      "metadata": {
        "id": "IHuSNc2tkQId"
      },
      "source": [
        "# Problem 2"
      ]
    },
    {
      "cell_type": "markdown",
      "metadata": {
        "id": "EufkPoIQkQIf"
      },
      "source": [
        "Use this notebook to write your code for problem 2. You may reuse your SGD code from last week."
      ]
    },
    {
      "cell_type": "code",
      "execution_count": null,
      "metadata": {
        "id": "Rmo7NnAAkQIg"
      },
      "outputs": [],
      "source": [
        "import numpy as np\n",
        "import matplotlib.pyplot as plt\n",
        "import random\n",
        "import math\n",
        "%matplotlib inline"
      ]
    },
    {
      "cell_type": "markdown",
      "metadata": {
        "id": "6tbqg-JToiuc"
      },
      "source": [
        "Loading the text files in."
      ]
    },
    {
      "cell_type": "code",
      "execution_count": null,
      "metadata": {
        "colab": {
          "base_uri": "https://localhost:8080/"
        },
        "id": "uPXjM5Z3ozge",
        "outputId": "9757e8b7-ef7d-4e28-b993-c265f21c979d"
      },
      "outputs": [
        {
          "output_type": "execute_result",
          "data": {
            "text/plain": [
              "('wine_validation.txt', <http.client.HTTPMessage at 0x7fb435bc67c0>)"
            ]
          },
          "metadata": {},
          "execution_count": 28
        }
      ],
      "source": [
        "import urllib.request\n",
        "urllib.request.urlretrieve('https://raw.githubusercontent.com/emiletimothy/Caltech-CS155-2023/main/set2/data/wine_training1.txt', 'wine_training1.txt')\n",
        "urllib.request.urlretrieve('https://raw.githubusercontent.com/emiletimothy/Caltech-CS155-2023/main/set2/data/wine_training2.txt', 'wine_training2.txt')\n",
        "urllib.request.urlretrieve('https://raw.githubusercontent.com/emiletimothy/Caltech-CS155-2023/main/set2/data/wine_validation.txt', 'wine_validation.txt')"
      ]
    },
    {
      "cell_type": "markdown",
      "metadata": {
        "id": "14TZ6FwAkQIh"
      },
      "source": [
        "The following function may be useful for loading the necessary data."
      ]
    },
    {
      "cell_type": "code",
      "execution_count": null,
      "metadata": {
        "id": "3mq2nHHOkQIi"
      },
      "outputs": [],
      "source": [
        "def load_data(filename):\n",
        "    \"\"\"\n",
        "    Function loads data stored in the file filename and returns it as a numpy ndarray.\n",
        "\n",
        "    Inputs:\n",
        "        filename: given as a string.\n",
        "\n",
        "    Outputs:\n",
        "        Data contained in the file, returned as a numpy ndarray\n",
        "    \"\"\"\n",
        "    return np.loadtxt(filename, skiprows=1, delimiter=',')"
      ]
    },
    {
      "cell_type": "code",
      "execution_count": null,
      "metadata": {
        "id": "G_Qei01RxnfV"
      },
      "outputs": [],
      "source": [
        "data_1 = load_data('wine_training1.txt')\n",
        "\n",
        "# split data into x1...x9 and y\n",
        "# for i in range(len(data)):\n",
        "X_1 = data_1[:, 1:]\n",
        "y_1 = data_1[:, 0]\n",
        "\n",
        "std_1 = np.std(X_1, axis = 0)\n",
        "mean_1 = np.mean(X_1, axis = 0)\n",
        "\n",
        "normal_X_list_1 = []\n",
        "for i in range(len(data_1)):\n",
        "  normal_X_1 = [1]\n",
        "  for j in range(13):\n",
        "    normal_X_1.append((X_1[i][j] - mean_1[j]) / std_1[j])\n",
        "  normal_X_list_1.append(normal_X_1)\n",
        "\n",
        "X_1 = np.array(normal_X_list_1)"
      ]
    },
    {
      "cell_type": "code",
      "execution_count": null,
      "metadata": {
        "id": "NpFVJ2oJo7hC"
      },
      "outputs": [],
      "source": [
        "data_2 = load_data('wine_training2.txt')\n",
        "\n",
        "# split data into x1...x9 and y\n",
        "# for i in range(len(data)):\n",
        "X_2 = data_2[:, 1:]\n",
        "y_2 = data_2[:, 0]\n",
        "\n",
        "std_2 = np.std(X_2, axis = 0)\n",
        "mean_2 = np.mean(X_2, axis = 0)\n",
        "\n",
        "normal_X_list_2 = []\n",
        "for i in range(len(data_2)):\n",
        "  normal_X_2 = [1]\n",
        "  for j in range(13):\n",
        "    normal_X_2.append((X_2[i][j] - mean_2[j]) / std_2[j])\n",
        "  normal_X_list_2.append(normal_X_2)\n",
        "\n",
        "X_2 = np.array(normal_X_list_2)"
      ]
    },
    {
      "cell_type": "code",
      "execution_count": null,
      "metadata": {
        "id": "laBJoi0mn0-n"
      },
      "outputs": [],
      "source": [
        "data_val_1 = load_data('wine_validation.txt')\n",
        "\n",
        "# split data into x1...x9 and y\n",
        "# for i in range(len(data)):\n",
        "X_val_1 = data_val_1[:, 1:]\n",
        "y_val_1 = data_val_1[:, 0]\n",
        "\n",
        "\n",
        "\n",
        "std_val_1  = np.std(data_1[:, 1:], axis = 0)\n",
        "mean_val_1 = np.mean(data_1[:, 1:], axis = 0)\n",
        "\n",
        "normal_X_list_val_1 = []\n",
        "for i in range(len(data_val_1)):\n",
        "  normal_X_val_1 = [1]\n",
        "  for j in range(13):\n",
        "    normal_X_val_1.append((X_val_1[i][j] - mean_val_1[j]) / std_val_1[j])\n",
        "  normal_X_list_val_1.append(normal_X_val_1)\n",
        "\n",
        "X_val_1 = np.array(normal_X_list_val_1)"
      ]
    },
    {
      "cell_type": "code",
      "execution_count": null,
      "metadata": {
        "id": "4ZDYL7jc8vhX"
      },
      "outputs": [],
      "source": [
        "data_val_2 = load_data('wine_validation.txt')\n",
        "\n",
        "# split data into x1...x9 and y\n",
        "# for i in range(len(data)):\n",
        "X_val_2 = data_val_2[:, 1:]\n",
        "y_val_2 = data_val_2[:, 0]\n",
        "\n",
        "std_val_2  = np.std(data_2[:, 1:], axis = 0)\n",
        "mean_val_2 = np.mean(data_2[:, 1:], axis = 0)\n",
        "\n",
        "normal_X_list_val_2 = []\n",
        "for i in range(len(data_val_2)):\n",
        "  normal_X_val_2 = [1]\n",
        "  for j in range(13):\n",
        "    normal_X_val_2.append((X_val_2[i][j] - mean_val_2[j]) / std_val_2[j])\n",
        "  normal_X_list_val_2.append(normal_X_val_2)\n",
        "\n",
        "X_val_2 = np.array(normal_X_list_val_2)"
      ]
    },
    {
      "cell_type": "code",
      "execution_count": null,
      "metadata": {
        "id": "SnYIZ4LuIE3_"
      },
      "outputs": [],
      "source": [
        "#SGD Implementation\n",
        "\n",
        "def loss(X, Y, w):\n",
        "    '''\n",
        "    Calculate the squared loss function.\n",
        "\n",
        "    Inputs:\n",
        "        X: A (N, D) shaped numpy array containing the data points.\n",
        "        Y: A (N, ) shaped numpy array containing the (float) labels of the data points.\n",
        "        w: A (D, ) shaped numpy array containing the weight vector.\n",
        "\n",
        "    Outputs:\n",
        "        The loss evaluated with respect to X, Y, and w.\n",
        "    '''\n",
        "\n",
        "    #==============================================\n",
        "    # TODO: Implement the SGD loss function.\n",
        "    #==============================================\n",
        "    err = 0\n",
        "    for i in range(len(X)):\n",
        "      err += (np.log( 1 / (1 + np.exp(-(Y[i] * np.dot(np.transpose(w), X[i]))))))\n",
        "    return -err/len(X)\n",
        "\n",
        "\n",
        "def gradient(x, y, w, l, N):\n",
        "    '''\n",
        "    Calculate the gradient of the loss function with respect to the weight vector w,\n",
        "    evaluated at a single point (x, y) and weight vector w.\n",
        "\n",
        "    Inputs:\n",
        "        x: A (D, ) shaped numpy array containing a single data point.\n",
        "        y: The float label for the data point.\n",
        "        w: A (D, ) shaped numpy array containing the weight vector.\n",
        "\n",
        "    Output:\n",
        "        The gradient of the loss with respect to w.\n",
        "    '''\n",
        "\n",
        "    #==============================================\n",
        "    # TODO: Implement the gradient of the\n",
        "    # loss function.\n",
        "    #==============================================\n",
        "    # try:\n",
        "    grad = - (y * x) / (1 + np.exp(y * np.dot(w, x)))\n",
        "    reg = (2*w*l) / N\n",
        "\n",
        "    return grad + reg\n",
        "\n",
        "def SGD(X, Y, w_start, eta, N_epochs, l):\n",
        "    '''\n",
        "    Perform SGD using dataset (X, Y), initial weight vector w_start,\n",
        "    learning rate eta, and N_epochs epochs.\n",
        "\n",
        "    Inputs:\n",
        "        X: A (N, D) shaped numpy array containing the data points.\n",
        "        Y: A (N, ) shaped numpy array containing the (float) labels of the data points.\n",
        "        w_start:  A (D, ) shaped numpy array containing the weight vector initialization.\n",
        "        eta: The step size.\n",
        "        N_epochs: The number of epochs (iterations) to run SGD.\n",
        "\n",
        "    Outputs:\n",
        "        W: A (N_epochs, D) shaped array containing the weight vectors from all iterations.\n",
        "        losses: A (N_epochs, ) shaped array containing the losses from all iterations.\n",
        "    '''\n",
        "\n",
        "    #==============================================\n",
        "    # TODO: Implement the SGD algorithm.\n",
        "    #==============================================\n",
        "\n",
        "\n",
        "    w = np.copy(w_start)\n",
        "    for i in range(N_epochs):\n",
        "      random_data_idx = np.random.permutation(range(len(X)))\n",
        "      for j in random_data_idx:\n",
        "        w = w - eta * gradient(X[j], Y[j], w, l, len(X))\n",
        "    return w"
      ]
    },
    {
      "cell_type": "code",
      "execution_count": null,
      "metadata": {
        "id": "FYoN544--Jx0"
      },
      "outputs": [],
      "source": [
        "from tqdm import tqdm"
      ]
    },
    {
      "cell_type": "code",
      "execution_count": null,
      "metadata": {
        "colab": {
          "base_uri": "https://localhost:8080/"
        },
        "id": "_Gm5h8jjONMT",
        "outputId": "17e6b210-a9f9-4faf-b944-2583d9cc8cf3"
      },
      "outputs": [
        {
          "output_type": "stream",
          "name": "stderr",
          "text": [
            "100%|██████████| 15/15 [11:33<00:00, 46.26s/it]\n"
          ]
        }
      ],
      "source": [
        "eta = 5e-4\n",
        "\n",
        "N_epochs = 20000\n",
        "lambdas = [0.00001, 0.00005, 0.00025, 0.00125, 0.00625, 0.03125, 0.15625, 0.78125,\n",
        "           3.90625, 19.53125, 97.65625, 488.28125, 2441.40625, 12207.03125, 61035.15625]\n",
        "\n",
        "e_in_lst_1 = []\n",
        "e_in_lst_2 = []\n",
        "\n",
        "e_out_lst_1 = []\n",
        "e_out_lst_2 = []\n",
        "\n",
        "w_norm_1 = []\n",
        "w_norm_2 = []\n",
        "\n",
        "for l in tqdm(lambdas):\n",
        "  w = np.random.randn(14) / 10\n",
        "  w1 = SGD(X_1, y_1, w, eta, N_epochs, l)\n",
        "  e_in_1 = loss(X_1, y_1, w1)\n",
        "  e_out_1 = loss(X_val_1, y_val_1, w1)\n",
        "  e_in_lst_1.append(e_in_1)\n",
        "  e_out_lst_1.append(e_out_1)\n",
        "  w_norm_1.append(np.linalg.norm(w1))\n",
        "\n",
        "  w = np.random.randn(14) / 10\n",
        "  w2 = SGD(X_2, y_2, w, eta, N_epochs, l)\n",
        "  e_in_2 = loss(X_2, y_2, w2)\n",
        "  e_out_2 = loss(X_val_2, y_val_2, w2)\n",
        "  e_in_lst_2.append(e_in_2)\n",
        "  e_out_lst_2.append(e_out_2)\n",
        "  w_norm_2.append(np.linalg.norm(w2))"
      ]
    },
    {
      "cell_type": "code",
      "execution_count": null,
      "metadata": {
        "colab": {
          "base_uri": "https://localhost:8080/",
          "height": 815
        },
        "id": "ai-GXmhZzHPx",
        "outputId": "28269d4b-76f7-41ff-ae8d-6df4b7891bc0"
      },
      "outputs": [
        {
          "output_type": "display_data",
          "data": {
            "text/plain": [
              "<Figure size 432x288 with 1 Axes>"
            ],
            "image/png": "[encoded data removed]"
          },
          "metadata": {
            "needs_background": "light"
          }
        },
        {
          "output_type": "display_data",
          "data": {
            "text/plain": [
              "<Figure size 432x288 with 1 Axes>"
            ],
            "image/png": "[encoded data removed]"
          },
          "metadata": {
            "needs_background": "light"
          }
        },
        {
          "output_type": "display_data",
          "data": {
            "text/plain": [
              "<Figure size 432x288 with 1 Axes>"
            ],
            "image/png": "[encoded data removed]"
          },
          "metadata": {
            "needs_background": "light"
          }
        }
      ],
      "source": [
        "plt.plot(lambdas, e_in_lst_1, label = \"training set 1\")\n",
        "plt.plot(lambdas, e_in_lst_2, label = \"training set 2\")\n",
        "plt.xlabel(\"lambdas\")\n",
        "plt.ylabel(\"e_in\")\n",
        "plt.xscale(\"log\")\n",
        "plt.legend()\n",
        "plt.show()\n",
        "\n",
        "plt.figure(1)\n",
        "plt.plot(lambdas, e_out_lst_1, label = \"validation 1\")\n",
        "plt.plot(lambdas, e_out_lst_2, label = \"validation 2\")\n",
        "plt.xlabel(\"lambdas\")\n",
        "plt.ylabel(\"e_out\")\n",
        "plt.xscale(\"log\")\n",
        "plt.legend()\n",
        "plt.show()\n",
        "\n",
        "plt.figure(2)\n",
        "plt.plot(lambdas, w_norm_1, label = \"training 1\")\n",
        "plt.plot(lambdas, w_norm_2,label = \"training 2\")\n",
        "plt.xlabel(\"lambdas\")\n",
        "plt.ylabel(\"w_norm\")\n",
        "plt.xscale(\"log\")\n",
        "plt.legend()\n",
        "plt.show()"
      ]
    },
    {
      "cell_type": "code",
      "execution_count": null,
      "metadata": {
        "id": "PPRd0TD38Epq",
        "colab": {
          "base_uri": "https://localhost:8080/"
        },
        "outputId": "fcec0fc5-eaf0-495c-f70a-49d9df9aec3e"
      },
      "outputs": [
        {
          "output_type": "stream",
          "name": "stdout",
          "text": [
            "[[ 1.00000000e+00  1.51762786e+00 -3.86918125e-01 ... -5.82499016e-02\n",
            "   2.14525874e+00  8.28253257e-01]\n",
            " [ 1.00000000e+00  3.88424150e-01 -3.10170410e-01 ... -1.29340764e-15\n",
            "   9.43303623e-01  7.86503815e-01]\n",
            " [ 1.00000000e+00  3.44571579e-01  3.25739232e-01 ... -1.16499803e-01\n",
            "   4.11669628e-01  1.16224879e+00]\n",
            " ...\n",
            " [ 1.00000000e+00 -1.15737899e+00  7.35681672e-02 ... -4.65999212e-01\n",
            "  -1.27569044e+00 -8.38941114e-01]\n",
            " [ 1.00000000e+00 -5.21516704e-01 -4.74629800e-01 ... -9.31998425e-01\n",
            "  -4.89796711e-01 -1.18406983e+00]\n",
            " [ 1.00000000e+00 -8.83300417e-01  2.45274734e+00 ... -1.51449744e+00\n",
            "  -9.75201663e-01 -5.21645357e-01]]\n"
          ]
        }
      ],
      "source": [
        "print(X_1)"
      ]
    },
    {
      "cell_type": "code",
      "source": [
        "print(X_val_1[0])"
      ],
      "metadata": {
        "colab": {
          "base_uri": "https://localhost:8080/"
        },
        "id": "W5vvkw64aFbc",
        "outputId": "76436416-facc-42a1-a014-b0fd3601da32"
      },
      "execution_count": null,
      "outputs": [
        {
          "output_type": "stream",
          "name": "stdout",
          "text": [
            "[ 1.          0.22397701 -0.32113437 -0.91989488 -0.62600509  0.54540747\n",
            "  1.00161233  0.75416696 -0.56034214  0.52461954  0.70194245 -0.99024833\n",
            "  0.82773102  0.32725996]\n"
          ]
        }
      ]
    },
    {
      "cell_type": "code",
      "source": [],
      "metadata": {
        "id": "nBAaRNb_aPnN"
      },
      "execution_count": null,
      "outputs": []
    }
  ],
  "metadata": {
    "colab": {
      "provenance": []
    },
    "kernelspec": {
      "display_name": "Python 3",
      "language": "python",
      "name": "python3"
    },
    "language_info": {
      "codemirror_mode": {
        "name": "ipython",
        "version": 3
      },
      "file_extension": ".py",
      "mimetype": "text/x-python",
      "name": "python",
      "nbconvert_exporter": "python",
      "pygments_lexer": "ipython3",
      "version": "3.8.3"
    },
    "accelerator": "GPU",
    "gpuClass": "standard"
  },
  "nbformat": 4,
  "nbformat_minor": 0
}