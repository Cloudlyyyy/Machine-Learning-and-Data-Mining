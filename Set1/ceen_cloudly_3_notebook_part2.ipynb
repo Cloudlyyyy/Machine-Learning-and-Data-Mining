{
  "nbformat": 4,
  "nbformat_minor": 0,
  "metadata": {
    "colab": {
      "provenance": []
    },
    "kernelspec": {
      "name": "python3",
      "display_name": "Python 3"
    },
    "language_info": {
      "name": "python"
    }
  },
  "cells": [
    {
      "cell_type": "markdown",
      "source": [
        "# **Problem 3, Parts G-I: Stochastic Gradient Descent with a Larger Dataset**\n",
        "\n",
        "Use this notebook to write your code for problem 3 parts G-I by filling in the sections marked `# TODO` and running all cells.\n"
      ],
      "metadata": {
        "id": "UlFvO4gLocHN"
      }
    },
    {
      "cell_type": "code",
      "execution_count": null,
      "metadata": {
        "id": "fRpytxLvoImb"
      },
      "outputs": [],
      "source": [
        "# Setup.\n",
        "\n",
        "import numpy as np\n",
        "import matplotlib.pyplot as plt\n",
        "\n",
        "%matplotlib inline"
      ]
    },
    {
      "cell_type": "markdown",
      "source": [
        "## Problem 3G: Perform SGD with the new dataset\n",
        "\n",
        "For the functions below, you may re-use your code from parts 3D-F. Note that you can now modify your SGD function to return the final weight vector instead of the weights after every epoch.\n",
        "\n"
      ],
      "metadata": {
        "id": "cWwb2t6Wo0iL"
      }
    },
    {
      "cell_type": "code",
      "source": [
        "def loss(X, Y, w):\n",
        "    '''\n",
        "    Calculate the squared loss function.\n",
        "\n",
        "    Inputs:\n",
        "        X: A (N, D) shaped numpy array containing the data points.\n",
        "        Y: A (N, ) shaped numpy array containing the (float) labels of the data points.\n",
        "        w: A (D, ) shaped numpy array containing the weight vector.\n",
        "\n",
        "    Outputs:\n",
        "        The loss evaluated with respect to X, Y, and w.\n",
        "    '''\n",
        "\n",
        "    #==============================================\n",
        "    # TODO: Implement the SGD loss function.\n",
        "    #==============================================\n",
        "\n",
        "    loss_score = 0\n",
        "    for i in range(len(X)):\n",
        "      loss_score += (Y[i] - np.dot(np.transpose(w), X[i]))**2\n",
        "    return loss_score\n",
        "\n",
        "def gradient(x, y, w):\n",
        "    '''\n",
        "    Calculate the gradient of the loss function with respect to\n",
        "    a single point (x, y), and using weight vector w.\n",
        "\n",
        "    Inputs:\n",
        "        x: A (D, ) shaped numpy array containing a single data point.\n",
        "        y: The float label for the data point.\n",
        "        w: A (D, ) shaped numpy array containing the weight vector.\n",
        "\n",
        "    Output:\n",
        "        The gradient of the loss with respect to x, y, and w.\n",
        "    '''\n",
        "\n",
        "    #==============================================\n",
        "    # TODO: Implement the gradient of the loss function.\n",
        "    #==============================================\n",
        "\n",
        "    return 2*x*(np.dot(np.transpose(w), x) - y)\n",
        "\n",
        "def SGD(X, Y, w_start, eta, N_epochs):\n",
        "    '''\n",
        "    Perform SGD using dataset (X, Y), initial weight vector w_start,\n",
        "    learning rate eta, and N_epochs epochs.\n",
        "\n",
        "    Inputs:\n",
        "        X: A (N, D) shaped numpy array containing the data points.\n",
        "        Y: A (N, ) shaped numpy array containing the (float) labels of the data points.\n",
        "        w_start:  A (D, ) shaped numpy array containing the weight vector initialization.\n",
        "        eta: The step size.\n",
        "        N_epochs: The number of epochs (iterations) to run SGD.\n",
        "\n",
        "    Outputs:\n",
        "        w: A (D, ) shaped array containing the final weight vector.\n",
        "        losses: A (N_epochs, ) shaped array containing the losses from all iterations.\n",
        "    '''\n",
        "\n",
        "    #==============================================\n",
        "    # TODO: Implement the SGD algorithm.\n",
        "    #==============================================\n",
        "\n",
        "    loss_arr = []\n",
        "    w = np.array(w_start)\n",
        "    for i in range(N_epochs):\n",
        "      random_data_idx = np.random.permutation(range(len(X)))\n",
        "      for j in random_data_idx:\n",
        "        w = w - eta * gradient(X[j], Y[j], w)\n",
        "      loss_arr.append(loss(X,Y,w))\n",
        "    return w , loss_arr"
      ],
      "metadata": {
        "id": "xcpsinpnoxqT"
      },
      "execution_count": null,
      "outputs": []
    },
    {
      "cell_type": "markdown",
      "source": [
        "Next, we need to load the dataset. In doing so, the following function may be helpful:\n",
        "\n"
      ],
      "metadata": {
        "id": "P8K3Sj_JpC95"
      }
    },
    {
      "cell_type": "code",
      "source": [
        "def load_data(filename):\n",
        "    \"\"\"\n",
        "    Function loads data stored in the file filename and returns it as a numpy ndarray.\n",
        "\n",
        "    Inputs:\n",
        "        filename: GeneratorExitiven as a string.\n",
        "\n",
        "    Outputs:\n",
        "        Data contained in the file, returned as a numpy ndarray\n",
        "    \"\"\"\n",
        "    return np.loadtxt(filename, skiprows=1, delimiter=',')"
      ],
      "metadata": {
        "id": "35vgOOKjo-fM"
      },
      "execution_count": null,
      "outputs": []
    },
    {
      "cell_type": "markdown",
      "source": [
        "Now, load the dataset in ``sgd_data.csv`` and run SGD using the given parameters; print out the final weights."
      ],
      "metadata": {
        "id": "xsilTCfypJQx"
      }
    },
    {
      "cell_type": "code",
      "source": [
        "#==============================================\n",
        "# TODO:\n",
        "# (1) load the dataset\n",
        "# (2) run SGD using the given parameters\n",
        "# (3) print out the final weights.\n",
        "#==============================================\n",
        "\n",
        "# The following should help you get started:\n",
        "\n",
        "data = load_data('https://raw.githubusercontent.com/emiletimothy/Caltech-CS155-2023/main/set1/src/data/sgd_data.csv')\n",
        "\n",
        "X = []\n",
        "Y = []\n",
        "\n",
        "\n",
        "for i in range(len(data)):\n",
        "  X.append(np.array([1,data[i][0], data[i][1], data[i][2], data[i][3]]))\n",
        "  Y.append(data[i][4])\n",
        "\n",
        "b_start = 0.001\n",
        "w_start = [b_start, 0.001, 0.001, 0.001, 0.001]\n",
        "eta = np.exp(-15)\n",
        "\n",
        "N_epochs = 1000\n",
        "\n",
        "W,losses = SGD(X, Y, w_start, eta, N_epochs)\n",
        "\n",
        "print(W)"
      ],
      "metadata": {
        "id": "78YMbMqcpFjz",
        "colab": {
          "base_uri": "https://localhost:8080/"
        },
        "outputId": "6268cb50-1ab8-4488-8eb8-d380984a160b"
      },
      "execution_count": null,
      "outputs": [
        {
          "output_type": "stream",
          "name": "stdout",
          "text": [
            "[ -0.22789116  -5.9785181    3.98840583 -11.85699021   8.91131292]\n"
          ]
        }
      ]
    },
    {
      "cell_type": "markdown",
      "source": [
        "# Problem 3H: Convergence of SGD\n",
        "\n",
        "This problem examines the convergence of SGD for different learning rates. Please implement your code in the cell below:"
      ],
      "metadata": {
        "id": "pLPqwWxYpQbQ"
      }
    },
    {
      "cell_type": "code",
      "source": [
        "#==============================================\n",
        "# TODO: create a plot showing the convergence\n",
        "# of SGD for the different learning rates.\n",
        "#==============================================\n",
        "\n",
        "b_start = 0.001\n",
        "w_start = [b_start, 0.001, 0.001, 0.001, 0.001]\n",
        "eta = [np.exp(-10), np.exp(-11), np.exp(-12), np.exp(-13), np.exp(-14), np.exp(-15)]\n",
        "N_epochs = 1000\n",
        "\n",
        "for i in range(len(eta)):\n",
        "  W,losses = SGD(X, Y, w_start, eta[i], N_epochs)\n",
        "  plt.plot(np.linspace(1,N_epochs,N_epochs),losses, label = \"eta = \" + str(np.log(eta[i])))\n",
        "\n",
        "plt.legend()\n",
        "plt.xlabel(\"number of epochs\")\n",
        "plt.ylabel(\"training error\")\n",
        "plt.title(\"number of epochs vs training error\")\n",
        "plt.show()"
      ],
      "metadata": {
        "id": "C8RdVKO6pKHX",
        "colab": {
          "base_uri": "https://localhost:8080/",
          "height": 295
        },
        "outputId": "d2eb0530-1932-47f4-b570-c0cfff86a688"
      },
      "execution_count": null,
      "outputs": [
        {
          "output_type": "display_data",
          "data": {
            "text/plain": [
              "<Figure size 432x288 with 1 Axes>"
            ],
            "image/png": "[encoded data removed]"
          },
          "metadata": {
            "needs_background": "light"
          }
        }
      ]
    },
    {
      "cell_type": "markdown",
      "source": [
        "# Problem 3I\n",
        "\n",
        "Provide your code for computing the least-squares analytical solution below.\n",
        "\n"
      ],
      "metadata": {
        "id": "n-Bti2CtpWX3"
      }
    },
    {
      "cell_type": "code",
      "source": [
        "#==============================================\n",
        "# TODO: implement the least-squares\n",
        "# analytical solution.\n",
        "#==============================================\n",
        "\n",
        "part_1 = 0\n",
        "part_2 = 0\n",
        "for i in range(len(X)):\n",
        "  part_1 += np.outer(X[i], np.transpose(X[i]))\n",
        "  part_2 += X[i] * Y[i]\n",
        "\n",
        "w = np.matmul(np.linalg.inv(part_1),part_2)\n",
        "\n",
        "print(w)\n",
        "\n"
      ],
      "metadata": {
        "id": "gxeUrCN1pUgb",
        "colab": {
          "base_uri": "https://localhost:8080/"
        },
        "outputId": "92693fdd-142a-4d63-c449-9a8c9e0d1fa8"
      },
      "execution_count": null,
      "outputs": [
        {
          "output_type": "stream",
          "name": "stdout",
          "text": [
            "[ -0.31644251  -5.99157048   4.01509955 -11.93325972   8.99061096]\n"
          ]
        }
      ]
    }
  ]
}