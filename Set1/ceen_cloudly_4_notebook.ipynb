{
  "nbformat": 4,
  "nbformat_minor": 0,
  "metadata": {
    "colab": {
      "provenance": []
    },
    "kernelspec": {
      "name": "python3",
      "display_name": "Python 3"
    },
    "language_info": {
      "name": "python"
    }
  },
  "cells": [
    {
      "cell_type": "markdown",
      "source": [
        "# **Problem 4**\n",
        "\n",
        "Use this notebook to write your code for problem 4 by filling in the sections marked `# TODO` and running all cells."
      ],
      "metadata": {
        "id": "eBxKbwm_thzW"
      }
    },
    {
      "cell_type": "code",
      "execution_count": null,
      "metadata": {
        "id": "H0SHFUpMtHUs"
      },
      "outputs": [],
      "source": [
        "import numpy as np\n",
        "import random\n",
        "import matplotlib.pyplot as plt\n",
        "import itertools\n",
        "\n",
        "import urllib.request\n",
        "urllib.request.urlretrieve('https://raw.githubusercontent.com/emiletimothy/Caltech-CS155-2023/main/set1/src/perceptron_helper.py', 'perceptron_helper.py')\n",
        "\n",
        "\n",
        "from perceptron_helper import (\n",
        "    predict,\n",
        "    plot_data,\n",
        "    boundary,\n",
        "    plot_perceptron,\n",
        ")\n",
        "\n",
        "%matplotlib inline"
      ]
    },
    {
      "cell_type": "markdown",
      "source": [
        "# Implementation of Perceptron\n",
        "\n",
        "First, we will implement the perceptron algorithm. Fill in the `update_perceptron()` function so that it finds a single misclassified point and updates the weights and bias accordingly. If no point exists, the weights and bias should not change.\n",
        "\n",
        "Hint: You can use the `predict()` helper method, which labels a point 1 or -1 depending on the weights and bias."
      ],
      "metadata": {
        "id": "yI4orP6ctsV7"
      }
    },
    {
      "cell_type": "code",
      "source": [
        "def update_perceptron(X, Y, w, b):\n",
        "    \"\"\"\n",
        "    This method updates a perceptron model. Takes in the previous weights\n",
        "    and returns weights after an update, which could be nothing.\n",
        "\n",
        "    Inputs:\n",
        "        X: A (N, D) shaped numpy array containing a single point.\n",
        "        Y: A (N, ) shaped numpy array containing the labels for the points.\n",
        "        w: A (D, ) shaped numpy array containing the weight vector.\n",
        "        b: A float containing the bias term.\n",
        "\n",
        "    Output:\n",
        "        next_w: A (D, ) shaped numpy array containing the next weight vector\n",
        "                after updating on a single misclassified point, if one exists.\n",
        "        next_b: The next float bias term after updating on a single\n",
        "                misclassified point, if one exists.\n",
        "        misclassified: The misclassified point used to update perceptron.\n",
        "    \"\"\"\n",
        "    next_w, next_b = np.copy(w), np.copy(b)\n",
        "    # misclassifed = None\n",
        "    mis = []\n",
        "    mis_idxs = []\n",
        "\n",
        "    #==============================================\n",
        "    # TODO: Implement update rule for perceptron.\n",
        "    #===============================================\n",
        "\n",
        "    #check if any points are misclassified\n",
        "    for i in range(len(X)):\n",
        "      score = predict(np.transpose(X[i]),w,b)\n",
        "      if score != Y[i]:\n",
        "        mis.append(X[i])\n",
        "        mis_idxs.append(i)\n",
        "\n",
        "    #chose random point in misclassified\n",
        "    point_idx = 0\n",
        "    if len(mis) != 0:\n",
        "      point_idx = random.choice(mis_idxs)\n",
        "\n",
        "    # update weight and bias\n",
        "\n",
        "    next_w = w + Y[point_idx]*np.transpose(X[point_idx])\n",
        "    next_b = b + Y[point_idx]\n",
        "\n",
        "    return next_w, next_b, X[point_idx], Y[point_idx]\n",
        "\n"
      ],
      "metadata": {
        "id": "R2MJIMJBta0h"
      },
      "execution_count": null,
      "outputs": []
    },
    {
      "cell_type": "markdown",
      "source": [
        "Next you will fill in the `run_perceptron()` method. The method performs single updates on a misclassified point until convergence, or max_iter updates are made. The function will return the final weights and bias. You should use the `update_perceptron()` method you implemented above.\n",
        "\n"
      ],
      "metadata": {
        "id": "AJ8r3SG0tx_0"
      }
    },
    {
      "cell_type": "code",
      "source": [
        "def run_perceptron(X, Y, w, b, max_iter):\n",
        "    \"\"\"\n",
        "    This method runs the perceptron learning algorithm. Takes in initial weights\n",
        "    and runs max_iter update iterations. Returns final weights and bias.\n",
        "\n",
        "    Inputs:\n",
        "        X: A (N, D) shaped numpy array containing a single point.\n",
        "        Y: A (N, ) shaped numpy array containing the labels for the points.\n",
        "        w: A (D, ) shaped numpy array containing the initial weight vector.\n",
        "        b: A float containing the initial bias term.\n",
        "        max_iter: An int for the maximum number of updates evaluated.\n",
        "\n",
        "    Output:\n",
        "        w: A (D, ) shaped numpy array containing the final weight vector.\n",
        "        b: The final float bias term.\n",
        "    \"\"\"\n",
        "\n",
        "    #============================================\n",
        "    # TODO: Implement perceptron update loop.\n",
        "    #=============================================\n",
        "    prev_w = w\n",
        "    prev_b = b\n",
        "    i = 0\n",
        "    iters = [i]\n",
        "    weights = [w]\n",
        "    biases = [b]\n",
        "    mis_pts = []\n",
        "    mis_classes = []\n",
        "    while i < max_iter:\n",
        "      curr_w, curr_b, mis_pt, mis_class = update_perceptron(X,Y,prev_w,prev_b)\n",
        "      if (curr_w == prev_w).all() and curr_b == prev_b:\n",
        "        break\n",
        "      weights.append(curr_w)\n",
        "      biases.append(curr_b)\n",
        "      mis_pts.append(mis_pt)\n",
        "      mis_classes.append(mis_class)\n",
        "      prev_w = curr_w\n",
        "      prev_b = curr_b\n",
        "      i += 1\n",
        "      iters.append(i)\n",
        "\n",
        "    return iters, weights, biases, mis_pts, mis_classes, max_iter"
      ],
      "metadata": {
        "id": "ox15TFgttq4H"
      },
      "execution_count": null,
      "outputs": []
    },
    {
      "cell_type": "markdown",
      "source": [
        "# Problem 4A\n",
        "\n",
        "## Visualizing a Toy Dataset\n",
        "\n",
        "We will begin by training our perceptron on a toy dataset of 3 points. The green points are labelled +1 and the red points are labelled -1. We use the helper function `plot_data()` to do so."
      ],
      "metadata": {
        "id": "ZGt-ryrYt2O_"
      }
    },
    {
      "cell_type": "code",
      "source": [
        "X = np.array([[ -3, -1], [0, 3], [1, -2]])\n",
        "Y = np.array([ -1, 1, 1])"
      ],
      "metadata": {
        "id": "RU6Po39Et0Ja"
      },
      "execution_count": null,
      "outputs": []
    },
    {
      "cell_type": "code",
      "source": [
        "fig = plt.figure(figsize=(5,4))\n",
        "ax = fig.gca(); ax.set_xlim(-4.1, 3.1); ax.set_ylim(-3.1, 4.1)\n",
        "plot_data(X, Y, ax)"
      ],
      "metadata": {
        "id": "SsKog1e-t66Z",
        "colab": {
          "base_uri": "https://localhost:8080/",
          "height": 266
        },
        "outputId": "59c940bf-c564-4dd6-97be-85ad63eacefd"
      },
      "execution_count": null,
      "outputs": [
        {
          "output_type": "display_data",
          "data": {
            "text/plain": [
              "<Figure size 360x288 with 1 Axes>"
            ],
            "image/png": "[encoded data removed]"
          },
          "metadata": {
            "needs_background": "light"
          }
        }
      ]
    },
    {
      "cell_type": "markdown",
      "source": [
        "# Running the Perceptron\n",
        "\n",
        "Next, we will run the perceptron learning algorithm on this dataset. Update the code to show the weights and bias at each timestep and the misclassified point used in each update.\n",
        "\n",
        "Run the below code, and fill in the corresponding table in the set."
      ],
      "metadata": {
        "id": "wIok16dEt_46"
      }
    },
    {
      "cell_type": "code",
      "source": [
        "# Initialize weights and bias.\n",
        "weights = np.array([0.0, 1.0])\n",
        "bias = 0.0\n",
        "\n",
        "iters, weights, biases, mis_pts, mis_classes, max_iters = run_perceptron(X, Y, weights, bias, 16)\n",
        "\n",
        "print(\"t:\" + str(iters))\n",
        "print(\"b:\"+ str(biases))\n",
        "print(\"w1, w2:\" + str(weights))\n",
        "print(\"x1, x2:\" + str(mis_pts))\n",
        "print(\"y:\" + str(mis_classes))"
      ],
      "metadata": {
        "id": "Z0Y1upBot878",
        "colab": {
          "base_uri": "https://localhost:8080/"
        },
        "outputId": "fa096706-87a2-44e9-fbcc-c0b4fdd67da3"
      },
      "execution_count": null,
      "outputs": [
        {
          "output_type": "stream",
          "name": "stdout",
          "text": [
            "t:[0, 1, 2, 3, 4, 5, 6, 7, 8, 9, 10, 11, 12, 13, 14, 15, 16]\n",
            "b:[0.0, 1.0, 2.0, 3.0, 2.0, 1.0, 0.0, -1.0, -2.0, -3.0, -4.0, -5.0, -6.0, -7.0, -8.0, -9.0, -10.0]\n",
            "w1, w2:[array([0., 1.]), array([ 1., -1.]), array([1., 2.]), array([2., 0.]), array([5., 1.]), array([8., 2.]), array([11.,  3.]), array([14.,  4.]), array([17.,  5.]), array([20.,  6.]), array([23.,  7.]), array([26.,  8.]), array([29.,  9.]), array([32., 10.]), array([35., 11.]), array([38., 12.]), array([41., 13.])]\n",
            "x1, x2:[array([ 1, -2]), array([0, 3]), array([ 1, -2]), array([-3, -1]), array([-3, -1]), array([-3, -1]), array([-3, -1]), array([-3, -1]), array([-3, -1]), array([-3, -1]), array([-3, -1]), array([-3, -1]), array([-3, -1]), array([-3, -1]), array([-3, -1]), array([-3, -1])]\n",
            "y:[1, 1, 1, -1, -1, -1, -1, -1, -1, -1, -1, -1, -1, -1, -1, -1]\n"
          ]
        }
      ]
    },
    {
      "cell_type": "markdown",
      "source": [
        "# Visualizating the Perceptron\n",
        "\n",
        "Getting all that information in table form isn't very informative. Let us visualize what the decision boundaries are at each timestep instead.\n",
        "\n",
        "The helper functions `boundary()` and `plot_perceptron()` plot a decision boundary given a perceptron weights and bias. Note that the equation for the decision boundary is given by:\n",
        "\n",
        "$$w_1 x_1 + w_2 x_2 + b = 0$$\n",
        "\n",
        "Using some algebra, we can obtain $x_2$ from $x_1$ to plot the boundary as a line.\n",
        "\n",
        "$$ x_2 = \\frac{-w_1 x_1 - b}{w_2}$$\n",
        "\n",
        "Below is a redefinition of the `run_perceptron()` method to visualize the points and decision boundaries at each timestep instead of printing. Fill in the method using your previous `run_perceptron()` method, and the above helper methods.\n",
        "\n",
        "Hint: The axs element is a list of Axes, which are used as subplots for each timestep. You can do the following:\n",
        "\n",
        "\n",
        "```\n",
        "ax = axs[i]\n",
        "```\n",
        "\n",
        "to get the plot correponding to $t=i$. You can then use `ax.set_title()` to title each subplot. You will want to use the `plot_data()` and `plot_perceptron()` helper methods."
      ],
      "metadata": {
        "id": "KBwVts4QuJW6"
      }
    },
    {
      "cell_type": "code",
      "source": [
        "def run_perceptron(X, Y, w, b, axs, max_iter):\n",
        "    \"\"\"\n",
        "    This method runs the perceptron learning algorithm and plots data, weight, and bias at each timestep.\n",
        "    Takes in initial weights and runs max_iter update iterations. Returns final weights and bias.\n",
        "\n",
        "    Inputs:\n",
        "        X: A (N, D) shaped numpy array containing a single point.\n",
        "        Y: A (N, ) shaped numpy array containing the labels for the points.\n",
        "        w: A (D, ) shaped numpy array containing the initial weight vector.\n",
        "        b: A float containing the initial bias term.\n",
        "        axs: A list of Axes that contain suplots for each timestep.\n",
        "        max_iter: An int for the maximum number of updates evaluated.\n",
        "\n",
        "    Output:\n",
        "        The final weight and bias vectors.\n",
        "    \"\"\"\n",
        "\n",
        "    #============================================\n",
        "    # TODO: Implement perceptron update loop.\n",
        "    #=============================================\n",
        "\n",
        "    prev_w = w\n",
        "    prev_b = b\n",
        "    i = 0\n",
        "    iters = [i]\n",
        "    weights = [w]\n",
        "    biases = [b]\n",
        "    mis_pts = []\n",
        "    mis_classes = []\n",
        "    while i < max_iter:\n",
        "      ax = axs[i]\n",
        "      curr_w, curr_b, mis_pt, mis_class = update_perceptron(X,Y,prev_w,prev_b)\n",
        "      if (curr_w == prev_w).all() and curr_b == prev_b:\n",
        "        break\n",
        "      weights.append(curr_w)\n",
        "      biases.append(curr_b)\n",
        "      mis_pts.append(mis_pt)\n",
        "      mis_classes.append(mis_class)\n",
        "      prev_w = curr_w\n",
        "      prev_b = curr_b\n",
        "      i += 1\n",
        "      iters.append(i)\n",
        "      plot_data(X,Y,ax)\n",
        "      plot_perceptron(curr_w, curr_b, ax)\n",
        "\n",
        "    return curr_w, curr_b"
      ],
      "metadata": {
        "id": "i8R_aAwNuD7g"
      },
      "execution_count": null,
      "outputs": []
    },
    {
      "cell_type": "markdown",
      "source": [
        "Run the below code to get a visualization of the perceptron algorithm. The red region are areas the perceptron thinks are negative examples.\n",
        "\n"
      ],
      "metadata": {
        "id": "djn9ofBYu9s5"
      }
    },
    {
      "cell_type": "code",
      "source": [
        "# Initialize weights and bias.\n",
        "weights = np.array([0.0, 1.0])\n",
        "bias = 0.0\n",
        "\n",
        "f, ax_arr = plt.subplots(2, 2, sharex=True, sharey=True, figsize=(9,8))\n",
        "axs = list(itertools.chain.from_iterable(ax_arr))\n",
        "for ax in axs:\n",
        "    ax.set_xlim(-4.1, 3.1); ax.set_ylim(-3.1, 4.1)\n",
        "\n",
        "run_perceptron(X, Y, weights, bias, axs, 4)\n",
        "\n",
        "f.tight_layout()"
      ],
      "metadata": {
        "id": "iJxu3fbAu7Ys",
        "colab": {
          "base_uri": "https://localhost:8080/",
          "height": 584
        },
        "outputId": "7d4cb82f-521c-4d87-edce-db2bf7ec1027"
      },
      "execution_count": null,
      "outputs": [
        {
          "output_type": "display_data",
          "data": {
            "text/plain": [
              "<Figure size 648x576 with 4 Axes>"
            ],
            "image/png": "[encoded data removed]"
          },
          "metadata": {
            "needs_background": "light"
          }
        }
      ]
    },
    {
      "cell_type": "markdown",
      "source": [
        "#Problem 4C\n",
        "##Visualize a Non-linearly Separable Dataset.\n",
        "\n",
        "We will now work on a dataset that cannot be linearly separated, namely one that is generated by the XOR function."
      ],
      "metadata": {
        "id": "pkENeQwUvCuG"
      }
    },
    {
      "cell_type": "code",
      "source": [
        "X = np.array([[0, 1], [1, 0], [0, 0], [1, 1]])\n",
        "Y = np.array([1, 1, -1, -1])"
      ],
      "metadata": {
        "id": "VItmjuSBu_VV"
      },
      "execution_count": null,
      "outputs": []
    },
    {
      "cell_type": "code",
      "source": [
        "fig = plt.figure(figsize=(5,4))\n",
        "ax = fig.gca(); ax.set_xlim(-0.1, 1.1); ax.set_ylim(-0.1, 1.1)\n",
        "plot_data(X, Y, ax)"
      ],
      "metadata": {
        "id": "GPk8S51ovLp4",
        "colab": {
          "base_uri": "https://localhost:8080/",
          "height": 265
        },
        "outputId": "efd58458-03a3-4f09-b071-b2b052f5815a"
      },
      "execution_count": null,
      "outputs": [
        {
          "output_type": "display_data",
          "data": {
            "text/plain": [
              "<Figure size 360x288 with 1 Axes>"
            ],
            "image/png": "[encoded data removed]"
          },
          "metadata": {
            "needs_background": "light"
          }
        }
      ]
    },
    {
      "cell_type": "code",
      "source": [
        "# Initialize weights and bias.\n",
        "weights = np.array([0.0, 1.0])\n",
        "bias = 0.0\n",
        "\n",
        "f, ax_arr = plt.subplots(4, 4, sharex=True, sharey=True, figsize=(9,8))\n",
        "axs = list(itertools.chain.from_iterable(ax_arr))\n",
        "for ax in axs:\n",
        "    ax.set_xlim(-0.1, 1.1); ax.set_ylim(-0.1, 1.1)\n",
        "\n",
        "run_perceptron(X, Y, weights, bias, axs, 16)\n",
        "\n",
        "f.tight_layout()"
      ],
      "metadata": {
        "id": "jzRCzsayvM_s",
        "colab": {
          "base_uri": "https://localhost:8080/",
          "height": 585
        },
        "outputId": "9fabdaa1-cdfe-4cb1-edf9-718726100890"
      },
      "execution_count": null,
      "outputs": [
        {
          "output_type": "display_data",
          "data": {
            "text/plain": [
              "<Figure size 648x576 with 16 Axes>"
            ],
            "image/png": "[encoded data removed]"
          },
          "metadata": {
            "needs_background": "light"
          }
        }
      ]
    }
  ]
}